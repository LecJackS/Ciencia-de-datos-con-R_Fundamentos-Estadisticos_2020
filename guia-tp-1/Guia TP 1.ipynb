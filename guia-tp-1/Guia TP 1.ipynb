{
 "cells": [
  {
   "cell_type": "markdown",
   "metadata": {},
   "source": [
    "# Guía TP 1\n",
    "\n",
    "## Primeros pasos con R\n",
    "\n",
    "---\n",
    "\n",
    "#### Alumno: Leandro Carreira\n",
    "#### LU: 669/18\n",
    "\n",
    "---"
   ]
  },
  {
   "cell_type": "markdown",
   "metadata": {},
   "source": [
    "El objetivo de esta guía es repasar algunos conceptos relativos a la sintaxis y manejo de datos usando R, siguiendo la propuesta presentada en *Foundations of Statistics with R*, de Darrin Speegle y Bryan Clair.\n",
    "\n",
    "Haciendo clicke [aquí]() podra acceder al libro. Buena suerte!"
   ]
  },
  {
   "cell_type": "markdown",
   "metadata": {},
   "source": [
    "### Ejercicio 1.a)"
   ]
  },
  {
   "cell_type": "markdown",
   "metadata": {},
   "source": [
    "Sea\n",
    "\n",
    "> `x <- c(1,2,3)`\n",
    ">\n",
    "> `y <- c(6,5,4)`\n",
    "\n",
    "  **Predecir** el resultado de correr cada una de las siguientes líneas y **después** chequear las respuestas.\n",
    "  \n",
    "> `x * 2`\n",
    "\n",
    "> `x * y`\n",
    "\n",
    "> `x[1] * y[2]`\n",
    "\n",
    "> `1/x`\n",
    "\n",
    "> `(1:10) * x[2]`\n",
    "\n",
    "> `rep(c(1,1,2), times = 2)`\n",
    "\n",
    "> `seq(from = 0, to = 10, length.out = 5) + 1:10`"
   ]
  },
  {
   "cell_type": "markdown",
   "metadata": {},
   "source": [
    "### Solución 1.a"
   ]
  },
  {
   "cell_type": "markdown",
   "metadata": {
    "ExecuteTime": {
     "end_time": "2020-04-13T19:57:33.900028Z",
     "start_time": "2020-04-13T19:57:33.883Z"
    }
   },
   "source": [
    "Predicciones antes de ejecutar el codigo:\n",
    "\n",
    "> `x * 2` $\\xrightarrow[]{\\text{devuelve}}$ el vector: `2 4 6`\n",
    "\n",
    "> `x * y` $\\xrightarrow[]{\\text{devuelve}}$ el vector: `6 10 12`\n",
    ">\n",
    "> **Justificación:** Producto de los elementos de cada vector uno a uno.\n",
    "\n",
    "> `x[1] * y[2]` $\\xrightarrow[]{\\text{devuelve}}$ el valor numérico: `5`\n",
    "\n",
    "> `1/x` $\\xrightarrow[]{\\text{devuelve}}$ el vector: `1 0.5 0.333...` \n",
    ">\n",
    "> **Justificación:** Con cantidad de `3`'s correspondiente a una variale numerica de doble precisión, 16 bits totales entre parte entera y parte decimal.\n",
    ">\n",
    "> En este caso el `0.` ocupa 1 bit, por lo que quedan 15 `3`'s detrás de la coma.\n",
    "\n",
    "> `(1:10) * x[2]` $\\xrightarrow[]{\\text{devuelve}}$ el vector: `2 4 6 8 10 12 14 16 18 20`\n",
    ">\n",
    "> **Justificación:** Similar a la primera línea, cada uno de los elementos del vector secuencia de 1 a 10 se multiplica por el segundo elemento del vector x\n",
    "\n",
    "> `rep(c(1,1,2), times = 2)` $\\xrightarrow[]{\\text{devuelve}}$ el vector: `1 1 2 1 1 2`\n",
    ">\n",
    "> **Justificación:** Se repite *times* veces y concatena de izquierda a derecha el vector `1 1 2`  \n",
    "\n",
    "> `seq(from = 0, to = 10, length.out = 5) + 1:10` $\\xrightarrow[]{\\text{devuelve}}$ el vector: `1 4.5 8 11.5 15 6 9.5 13 16.5 20`\n",
    ">\n",
    "> **Justificación:** Se genera una secuencia de **5 elementos** equidistantes entre 0 y 10 incluídos `0 2.5 5 7.5 10` y se suma a la secuencia de **10 elementos** de los naturales entre 1 y 10. \n",
    ">\n",
    "> Al ser de **longitudes diferentes**, por *recycling* (o *broadcasting* en python), **R repite la operación del elemento más corto sobre el más largo la cantidad de veces necesaria** para que el **resultado final** tenga la **longitud del elemento más largo**.\n",
    ">\n",
    "> En particular, a los primeros 5 elementos de la secuencia del 1 al 10 `1 2 3 4 5` le suma la menor secuencia `0 2.5 5 7.5 10`, y a los segundos 5 elementos de la secuencia del 1 al 10 `6 7 8 9 10`, vuelve a sumarle la misma menor secuencia `0 2.5 5 7.5 10`.\n",
    ">\n",
    "> El resultado son estas dos secuencias resultantes concatenadas.\n"
   ]
  },
  {
   "cell_type": "markdown",
   "metadata": {},
   "source": [
    "### Chequeo de respuestas (ejecución de código)"
   ]
  },
  {
   "cell_type": "code",
   "execution_count": 1,
   "metadata": {
    "ExecuteTime": {
     "end_time": "2020-04-15T01:13:19.840932Z",
     "start_time": "2020-04-15T01:13:19.719Z"
    }
   },
   "outputs": [],
   "source": [
    "# Variables de datos\n",
    "x <- c(1,2,3)\n",
    "y <- c(6,5,4)"
   ]
  },
  {
   "cell_type": "code",
   "execution_count": 2,
   "metadata": {
    "ExecuteTime": {
     "end_time": "2020-04-15T01:13:19.923589Z",
     "start_time": "2020-04-15T01:13:19.725Z"
    }
   },
   "outputs": [
    {
     "data": {
      "text/html": [
       "<ol class=list-inline>\n",
       "\t<li>2</li>\n",
       "\t<li>4</li>\n",
       "\t<li>6</li>\n",
       "</ol>\n"
      ],
      "text/latex": [
       "\\begin{enumerate*}\n",
       "\\item 2\n",
       "\\item 4\n",
       "\\item 6\n",
       "\\end{enumerate*}\n"
      ],
      "text/markdown": [
       "1. 2\n",
       "2. 4\n",
       "3. 6\n",
       "\n",
       "\n"
      ],
      "text/plain": [
       "[1] 2 4 6"
      ]
     },
     "metadata": {},
     "output_type": "display_data"
    },
    {
     "data": {
      "text/html": [
       "<ol class=list-inline>\n",
       "\t<li>6</li>\n",
       "\t<li>10</li>\n",
       "\t<li>12</li>\n",
       "</ol>\n"
      ],
      "text/latex": [
       "\\begin{enumerate*}\n",
       "\\item 6\n",
       "\\item 10\n",
       "\\item 12\n",
       "\\end{enumerate*}\n"
      ],
      "text/markdown": [
       "1. 6\n",
       "2. 10\n",
       "3. 12\n",
       "\n",
       "\n"
      ],
      "text/plain": [
       "[1]  6 10 12"
      ]
     },
     "metadata": {},
     "output_type": "display_data"
    },
    {
     "data": {
      "text/html": [
       "5"
      ],
      "text/latex": [
       "5"
      ],
      "text/markdown": [
       "5"
      ],
      "text/plain": [
       "[1] 5"
      ]
     },
     "metadata": {},
     "output_type": "display_data"
    },
    {
     "data": {
      "text/html": [
       "<ol class=list-inline>\n",
       "\t<li>1</li>\n",
       "\t<li>0.5</li>\n",
       "\t<li>0.333333333333333</li>\n",
       "</ol>\n"
      ],
      "text/latex": [
       "\\begin{enumerate*}\n",
       "\\item 1\n",
       "\\item 0.5\n",
       "\\item 0.333333333333333\n",
       "\\end{enumerate*}\n"
      ],
      "text/markdown": [
       "1. 1\n",
       "2. 0.5\n",
       "3. 0.333333333333333\n",
       "\n",
       "\n"
      ],
      "text/plain": [
       "[1] 1.0000000 0.5000000 0.3333333"
      ]
     },
     "metadata": {},
     "output_type": "display_data"
    },
    {
     "data": {
      "text/html": [
       "<ol class=list-inline>\n",
       "\t<li>2</li>\n",
       "\t<li>4</li>\n",
       "\t<li>6</li>\n",
       "\t<li>8</li>\n",
       "\t<li>10</li>\n",
       "\t<li>12</li>\n",
       "\t<li>14</li>\n",
       "\t<li>16</li>\n",
       "\t<li>18</li>\n",
       "\t<li>20</li>\n",
       "</ol>\n"
      ],
      "text/latex": [
       "\\begin{enumerate*}\n",
       "\\item 2\n",
       "\\item 4\n",
       "\\item 6\n",
       "\\item 8\n",
       "\\item 10\n",
       "\\item 12\n",
       "\\item 14\n",
       "\\item 16\n",
       "\\item 18\n",
       "\\item 20\n",
       "\\end{enumerate*}\n"
      ],
      "text/markdown": [
       "1. 2\n",
       "2. 4\n",
       "3. 6\n",
       "4. 8\n",
       "5. 10\n",
       "6. 12\n",
       "7. 14\n",
       "8. 16\n",
       "9. 18\n",
       "10. 20\n",
       "\n",
       "\n"
      ],
      "text/plain": [
       " [1]  2  4  6  8 10 12 14 16 18 20"
      ]
     },
     "metadata": {},
     "output_type": "display_data"
    },
    {
     "data": {
      "text/html": [
       "<ol class=list-inline>\n",
       "\t<li>1</li>\n",
       "\t<li>1</li>\n",
       "\t<li>2</li>\n",
       "\t<li>1</li>\n",
       "\t<li>1</li>\n",
       "\t<li>2</li>\n",
       "</ol>\n"
      ],
      "text/latex": [
       "\\begin{enumerate*}\n",
       "\\item 1\n",
       "\\item 1\n",
       "\\item 2\n",
       "\\item 1\n",
       "\\item 1\n",
       "\\item 2\n",
       "\\end{enumerate*}\n"
      ],
      "text/markdown": [
       "1. 1\n",
       "2. 1\n",
       "3. 2\n",
       "4. 1\n",
       "5. 1\n",
       "6. 2\n",
       "\n",
       "\n"
      ],
      "text/plain": [
       "[1] 1 1 2 1 1 2"
      ]
     },
     "metadata": {},
     "output_type": "display_data"
    },
    {
     "data": {
      "text/html": [
       "<ol class=list-inline>\n",
       "\t<li>1</li>\n",
       "\t<li>4.5</li>\n",
       "\t<li>8</li>\n",
       "\t<li>11.5</li>\n",
       "\t<li>15</li>\n",
       "\t<li>6</li>\n",
       "\t<li>9.5</li>\n",
       "\t<li>13</li>\n",
       "\t<li>16.5</li>\n",
       "\t<li>20</li>\n",
       "</ol>\n"
      ],
      "text/latex": [
       "\\begin{enumerate*}\n",
       "\\item 1\n",
       "\\item 4.5\n",
       "\\item 8\n",
       "\\item 11.5\n",
       "\\item 15\n",
       "\\item 6\n",
       "\\item 9.5\n",
       "\\item 13\n",
       "\\item 16.5\n",
       "\\item 20\n",
       "\\end{enumerate*}\n"
      ],
      "text/markdown": [
       "1. 1\n",
       "2. 4.5\n",
       "3. 8\n",
       "4. 11.5\n",
       "5. 15\n",
       "6. 6\n",
       "7. 9.5\n",
       "8. 13\n",
       "9. 16.5\n",
       "10. 20\n",
       "\n",
       "\n"
      ],
      "text/plain": [
       " [1]  1.0  4.5  8.0 11.5 15.0  6.0  9.5 13.0 16.5 20.0"
      ]
     },
     "metadata": {},
     "output_type": "display_data"
    }
   ],
   "source": [
    "# Operaciones sobre x e y\n",
    "x * 2\n",
    "x * y\n",
    "x[1] * y[2]\n",
    "1/x\n",
    "(1:10) * x[2]\n",
    "rep(c(1,1,2), times = 2)\n",
    "seq(from = 0, to = 10, length.out = 5) + 1:10"
   ]
  },
  {
   "cell_type": "markdown",
   "metadata": {},
   "source": [
    "> Se verifica que los resultados se corresponden con las respuestas anteriores."
   ]
  },
  {
   "cell_type": "markdown",
   "metadata": {
    "ExecuteTime": {
     "end_time": "2020-04-13T20:03:57.413553Z",
     "start_time": "2020-04-13T20:03:57.391Z"
    }
   },
   "source": [
    "### Ejercicio 1.b\n",
    "\n",
    "> ¿Qué ocurre si se multiplican 2 vectores de **distinta** longitud?\n",
    "\n",
    "### Respuesta 1.b\n",
    "\n",
    "Similar a lo que sucedió con la suma de vectores de distintas longitudes, R resuelve estos casos haciendo uso de *recycling*, realizando la operación **elemento a elemento**, **repitiendo el más corto la cantidad de veces que sea necesaria**.\n",
    "\n",
    "Si la cantidad de elementos del más largo es proporcional a la longitud del más corto, la operación se ejecuta normalmente.\n",
    "\n",
    "Pero si la cantidad de elementos **no** es proporcional, R avisa con un mensaje de advertencia que éste es el caso, aunque devuelve el resultado anteriormente descripto.\n",
    "\n",
    "### Ejemplo 1.b"
   ]
  },
  {
   "cell_type": "code",
   "execution_count": 3,
   "metadata": {
    "ExecuteTime": {
     "end_time": "2020-04-15T01:13:19.938749Z",
     "start_time": "2020-04-15T01:13:19.730Z"
    }
   },
   "outputs": [
    {
     "name": "stderr",
     "output_type": "stream",
     "text": [
      "Warning message in c(2, 3, 4) * c(1, 1, 1, 1, 1):\n",
      "“longer object length is not a multiple of shorter object length”"
     ]
    },
    {
     "data": {
      "text/html": [
       "<ol class=list-inline>\n",
       "\t<li>2</li>\n",
       "\t<li>3</li>\n",
       "\t<li>4</li>\n",
       "\t<li>2</li>\n",
       "\t<li>3</li>\n",
       "</ol>\n"
      ],
      "text/latex": [
       "\\begin{enumerate*}\n",
       "\\item 2\n",
       "\\item 3\n",
       "\\item 4\n",
       "\\item 2\n",
       "\\item 3\n",
       "\\end{enumerate*}\n"
      ],
      "text/markdown": [
       "1. 2\n",
       "2. 3\n",
       "3. 4\n",
       "4. 2\n",
       "5. 3\n",
       "\n",
       "\n"
      ],
      "text/plain": [
       "[1] 2 3 4 2 3"
      ]
     },
     "metadata": {},
     "output_type": "display_data"
    }
   ],
   "source": [
    "c(2,3,4)*c(1,1,1,1,1)"
   ]
  },
  {
   "cell_type": "markdown",
   "metadata": {
    "ExecuteTime": {
     "end_time": "2020-04-13T20:12:56.374182Z",
     "start_time": "2020-04-13T20:12:56.345Z"
    }
   },
   "source": [
    "### Ejercicio 2.a\n",
    "\n",
    "> Crear un vector llamado `tratamiento` con coordenadas A, B y C de manera que A aparezca 20 veces, B 18 y C 22."
   ]
  },
  {
   "cell_type": "markdown",
   "metadata": {
    "ExecuteTime": {
     "end_time": "2020-04-13T20:27:34.333549Z",
     "start_time": "2020-04-13T20:27:34.314Z"
    }
   },
   "source": [
    "### Solución 2.a\n",
    "\n",
    "> **DUDA:**\n",
    ">\n",
    "> >No estoy muy seguro de entender lo que pide el enunciado cuando se refiere a coordenadas A,B,C que se repiten:\n",
    "> >\n",
    "> > Lo interpreto como un vector de 60 coordenadas donde existen 3 valores distintos (que no se especifican), repetidos la cantidad de veces solicitadas.\n",
    "> >\n",
    "> > Mi duda está en que cuando dice *\"con coordenadas A, B y C\"* pienso en un vector de 3 coordenadas, pero luego éstas se repiten, entonces no son 3, sino que 60, donde sus valores se repiten 20, 18 y 22 veces (no necesariamente ordenados)."
   ]
  },
  {
   "cell_type": "code",
   "execution_count": 4,
   "metadata": {
    "ExecuteTime": {
     "end_time": "2020-04-15T01:13:19.953884Z",
     "start_time": "2020-04-15T01:13:19.735Z"
    }
   },
   "outputs": [],
   "source": [
    "A <- 1\n",
    "B <- 2\n",
    "C <- 3"
   ]
  },
  {
   "cell_type": "code",
   "execution_count": 5,
   "metadata": {
    "ExecuteTime": {
     "end_time": "2020-04-15T01:13:19.971034Z",
     "start_time": "2020-04-15T01:13:19.741Z"
    }
   },
   "outputs": [
    {
     "data": {
      "text/html": [
       "<ol class=list-inline>\n",
       "\t<li>1</li>\n",
       "\t<li>1</li>\n",
       "\t<li>1</li>\n",
       "\t<li>1</li>\n",
       "\t<li>1</li>\n",
       "\t<li>1</li>\n",
       "\t<li>1</li>\n",
       "\t<li>1</li>\n",
       "\t<li>1</li>\n",
       "\t<li>1</li>\n",
       "\t<li>1</li>\n",
       "\t<li>1</li>\n",
       "\t<li>1</li>\n",
       "\t<li>1</li>\n",
       "\t<li>1</li>\n",
       "\t<li>1</li>\n",
       "\t<li>1</li>\n",
       "\t<li>1</li>\n",
       "\t<li>1</li>\n",
       "\t<li>1</li>\n",
       "\t<li>2</li>\n",
       "\t<li>2</li>\n",
       "\t<li>2</li>\n",
       "\t<li>2</li>\n",
       "\t<li>2</li>\n",
       "\t<li>2</li>\n",
       "\t<li>2</li>\n",
       "\t<li>2</li>\n",
       "\t<li>2</li>\n",
       "\t<li>2</li>\n",
       "\t<li>2</li>\n",
       "\t<li>2</li>\n",
       "\t<li>2</li>\n",
       "\t<li>2</li>\n",
       "\t<li>2</li>\n",
       "\t<li>2</li>\n",
       "\t<li>2</li>\n",
       "\t<li>2</li>\n",
       "\t<li>3</li>\n",
       "\t<li>3</li>\n",
       "\t<li>3</li>\n",
       "\t<li>3</li>\n",
       "\t<li>3</li>\n",
       "\t<li>3</li>\n",
       "\t<li>3</li>\n",
       "\t<li>3</li>\n",
       "\t<li>3</li>\n",
       "\t<li>3</li>\n",
       "\t<li>3</li>\n",
       "\t<li>3</li>\n",
       "\t<li>3</li>\n",
       "\t<li>3</li>\n",
       "\t<li>3</li>\n",
       "\t<li>3</li>\n",
       "\t<li>3</li>\n",
       "\t<li>3</li>\n",
       "\t<li>3</li>\n",
       "\t<li>3</li>\n",
       "\t<li>3</li>\n",
       "\t<li>3</li>\n",
       "</ol>\n"
      ],
      "text/latex": [
       "\\begin{enumerate*}\n",
       "\\item 1\n",
       "\\item 1\n",
       "\\item 1\n",
       "\\item 1\n",
       "\\item 1\n",
       "\\item 1\n",
       "\\item 1\n",
       "\\item 1\n",
       "\\item 1\n",
       "\\item 1\n",
       "\\item 1\n",
       "\\item 1\n",
       "\\item 1\n",
       "\\item 1\n",
       "\\item 1\n",
       "\\item 1\n",
       "\\item 1\n",
       "\\item 1\n",
       "\\item 1\n",
       "\\item 1\n",
       "\\item 2\n",
       "\\item 2\n",
       "\\item 2\n",
       "\\item 2\n",
       "\\item 2\n",
       "\\item 2\n",
       "\\item 2\n",
       "\\item 2\n",
       "\\item 2\n",
       "\\item 2\n",
       "\\item 2\n",
       "\\item 2\n",
       "\\item 2\n",
       "\\item 2\n",
       "\\item 2\n",
       "\\item 2\n",
       "\\item 2\n",
       "\\item 2\n",
       "\\item 3\n",
       "\\item 3\n",
       "\\item 3\n",
       "\\item 3\n",
       "\\item 3\n",
       "\\item 3\n",
       "\\item 3\n",
       "\\item 3\n",
       "\\item 3\n",
       "\\item 3\n",
       "\\item 3\n",
       "\\item 3\n",
       "\\item 3\n",
       "\\item 3\n",
       "\\item 3\n",
       "\\item 3\n",
       "\\item 3\n",
       "\\item 3\n",
       "\\item 3\n",
       "\\item 3\n",
       "\\item 3\n",
       "\\item 3\n",
       "\\end{enumerate*}\n"
      ],
      "text/markdown": [
       "1. 1\n",
       "2. 1\n",
       "3. 1\n",
       "4. 1\n",
       "5. 1\n",
       "6. 1\n",
       "7. 1\n",
       "8. 1\n",
       "9. 1\n",
       "10. 1\n",
       "11. 1\n",
       "12. 1\n",
       "13. 1\n",
       "14. 1\n",
       "15. 1\n",
       "16. 1\n",
       "17. 1\n",
       "18. 1\n",
       "19. 1\n",
       "20. 1\n",
       "21. 2\n",
       "22. 2\n",
       "23. 2\n",
       "24. 2\n",
       "25. 2\n",
       "26. 2\n",
       "27. 2\n",
       "28. 2\n",
       "29. 2\n",
       "30. 2\n",
       "31. 2\n",
       "32. 2\n",
       "33. 2\n",
       "34. 2\n",
       "35. 2\n",
       "36. 2\n",
       "37. 2\n",
       "38. 2\n",
       "39. 3\n",
       "40. 3\n",
       "41. 3\n",
       "42. 3\n",
       "43. 3\n",
       "44. 3\n",
       "45. 3\n",
       "46. 3\n",
       "47. 3\n",
       "48. 3\n",
       "49. 3\n",
       "50. 3\n",
       "51. 3\n",
       "52. 3\n",
       "53. 3\n",
       "54. 3\n",
       "55. 3\n",
       "56. 3\n",
       "57. 3\n",
       "58. 3\n",
       "59. 3\n",
       "60. 3\n",
       "\n",
       "\n"
      ],
      "text/plain": [
       " [1] 1 1 1 1 1 1 1 1 1 1 1 1 1 1 1 1 1 1 1 1 2 2 2 2 2 2 2 2 2 2 2 2 2 2 2 2 2 2\n",
       "[39] 3 3 3 3 3 3 3 3 3 3 3 3 3 3 3 3 3 3 3 3 3 3"
      ]
     },
     "metadata": {},
     "output_type": "display_data"
    }
   ],
   "source": [
    "# Forma 1\n",
    "tratamiento <- c(rep(A, 20), rep(B, 18), rep(C, 22))\n",
    "tratamiento"
   ]
  },
  {
   "cell_type": "code",
   "execution_count": 6,
   "metadata": {
    "ExecuteTime": {
     "end_time": "2020-04-15T01:13:19.996403Z",
     "start_time": "2020-04-15T01:13:19.745Z"
    }
   },
   "outputs": [
    {
     "data": {
      "text/html": [
       "<ol class=list-inline>\n",
       "\t<li>1</li>\n",
       "\t<li>1</li>\n",
       "\t<li>1</li>\n",
       "\t<li>1</li>\n",
       "\t<li>1</li>\n",
       "\t<li>1</li>\n",
       "\t<li>1</li>\n",
       "\t<li>1</li>\n",
       "\t<li>1</li>\n",
       "\t<li>1</li>\n",
       "\t<li>1</li>\n",
       "\t<li>1</li>\n",
       "\t<li>1</li>\n",
       "\t<li>1</li>\n",
       "\t<li>1</li>\n",
       "\t<li>1</li>\n",
       "\t<li>1</li>\n",
       "\t<li>1</li>\n",
       "\t<li>1</li>\n",
       "\t<li>1</li>\n",
       "\t<li>2</li>\n",
       "\t<li>2</li>\n",
       "\t<li>2</li>\n",
       "\t<li>2</li>\n",
       "\t<li>2</li>\n",
       "\t<li>2</li>\n",
       "\t<li>2</li>\n",
       "\t<li>2</li>\n",
       "\t<li>2</li>\n",
       "\t<li>2</li>\n",
       "\t<li>2</li>\n",
       "\t<li>2</li>\n",
       "\t<li>2</li>\n",
       "\t<li>2</li>\n",
       "\t<li>2</li>\n",
       "\t<li>2</li>\n",
       "\t<li>2</li>\n",
       "\t<li>2</li>\n",
       "\t<li>3</li>\n",
       "\t<li>3</li>\n",
       "\t<li>3</li>\n",
       "\t<li>3</li>\n",
       "\t<li>3</li>\n",
       "\t<li>3</li>\n",
       "\t<li>3</li>\n",
       "\t<li>3</li>\n",
       "\t<li>3</li>\n",
       "\t<li>3</li>\n",
       "\t<li>3</li>\n",
       "\t<li>3</li>\n",
       "\t<li>3</li>\n",
       "\t<li>3</li>\n",
       "\t<li>3</li>\n",
       "\t<li>3</li>\n",
       "\t<li>3</li>\n",
       "\t<li>3</li>\n",
       "\t<li>3</li>\n",
       "\t<li>3</li>\n",
       "\t<li>3</li>\n",
       "\t<li>3</li>\n",
       "</ol>\n"
      ],
      "text/latex": [
       "\\begin{enumerate*}\n",
       "\\item 1\n",
       "\\item 1\n",
       "\\item 1\n",
       "\\item 1\n",
       "\\item 1\n",
       "\\item 1\n",
       "\\item 1\n",
       "\\item 1\n",
       "\\item 1\n",
       "\\item 1\n",
       "\\item 1\n",
       "\\item 1\n",
       "\\item 1\n",
       "\\item 1\n",
       "\\item 1\n",
       "\\item 1\n",
       "\\item 1\n",
       "\\item 1\n",
       "\\item 1\n",
       "\\item 1\n",
       "\\item 2\n",
       "\\item 2\n",
       "\\item 2\n",
       "\\item 2\n",
       "\\item 2\n",
       "\\item 2\n",
       "\\item 2\n",
       "\\item 2\n",
       "\\item 2\n",
       "\\item 2\n",
       "\\item 2\n",
       "\\item 2\n",
       "\\item 2\n",
       "\\item 2\n",
       "\\item 2\n",
       "\\item 2\n",
       "\\item 2\n",
       "\\item 2\n",
       "\\item 3\n",
       "\\item 3\n",
       "\\item 3\n",
       "\\item 3\n",
       "\\item 3\n",
       "\\item 3\n",
       "\\item 3\n",
       "\\item 3\n",
       "\\item 3\n",
       "\\item 3\n",
       "\\item 3\n",
       "\\item 3\n",
       "\\item 3\n",
       "\\item 3\n",
       "\\item 3\n",
       "\\item 3\n",
       "\\item 3\n",
       "\\item 3\n",
       "\\item 3\n",
       "\\item 3\n",
       "\\item 3\n",
       "\\item 3\n",
       "\\end{enumerate*}\n"
      ],
      "text/markdown": [
       "1. 1\n",
       "2. 1\n",
       "3. 1\n",
       "4. 1\n",
       "5. 1\n",
       "6. 1\n",
       "7. 1\n",
       "8. 1\n",
       "9. 1\n",
       "10. 1\n",
       "11. 1\n",
       "12. 1\n",
       "13. 1\n",
       "14. 1\n",
       "15. 1\n",
       "16. 1\n",
       "17. 1\n",
       "18. 1\n",
       "19. 1\n",
       "20. 1\n",
       "21. 2\n",
       "22. 2\n",
       "23. 2\n",
       "24. 2\n",
       "25. 2\n",
       "26. 2\n",
       "27. 2\n",
       "28. 2\n",
       "29. 2\n",
       "30. 2\n",
       "31. 2\n",
       "32. 2\n",
       "33. 2\n",
       "34. 2\n",
       "35. 2\n",
       "36. 2\n",
       "37. 2\n",
       "38. 2\n",
       "39. 3\n",
       "40. 3\n",
       "41. 3\n",
       "42. 3\n",
       "43. 3\n",
       "44. 3\n",
       "45. 3\n",
       "46. 3\n",
       "47. 3\n",
       "48. 3\n",
       "49. 3\n",
       "50. 3\n",
       "51. 3\n",
       "52. 3\n",
       "53. 3\n",
       "54. 3\n",
       "55. 3\n",
       "56. 3\n",
       "57. 3\n",
       "58. 3\n",
       "59. 3\n",
       "60. 3\n",
       "\n",
       "\n"
      ],
      "text/plain": [
       " [1] 1 1 1 1 1 1 1 1 1 1 1 1 1 1 1 1 1 1 1 1 2 2 2 2 2 2 2 2 2 2 2 2 2 2 2 2 2 2\n",
       "[39] 3 3 3 3 3 3 3 3 3 3 3 3 3 3 3 3 3 3 3 3 3 3"
      ]
     },
     "metadata": {},
     "output_type": "display_data"
    }
   ],
   "source": [
    "# Forma 2. Con funciones que NO vimos todavia, pero al ser escalable, lo agrego\n",
    "coordenadas  <- c(A,B,C)\n",
    "repeticiones <- c(20,18,22)\n",
    "# mapply: aplica FUN entre los elementos de los vectores uno a uno, en orden\n",
    "tratamiento  <- unlist(mapply(FUN=rep, coordenadas, repeticiones))\n",
    "tratamiento"
   ]
  },
  {
   "cell_type": "markdown",
   "metadata": {
    "run_control": {
     "marked": true
    }
   },
   "source": [
    "### Ejercicio 2.b\n",
    "\n",
    "> Definir un vector J que sea una secuencia de 1 a 30 con un incremento de 2 y luego sumar la primera y la octava coordenadas."
   ]
  },
  {
   "cell_type": "code",
   "execution_count": 7,
   "metadata": {
    "ExecuteTime": {
     "end_time": "2020-04-15T01:13:20.014446Z",
     "start_time": "2020-04-15T01:13:19.750Z"
    }
   },
   "outputs": [
    {
     "data": {
      "text/html": [
       "16"
      ],
      "text/latex": [
       "16"
      ],
      "text/markdown": [
       "16"
      ],
      "text/plain": [
       "[1] 16"
      ]
     },
     "metadata": {},
     "output_type": "display_data"
    }
   ],
   "source": [
    "J <- seq(1, 30, by=2)\n",
    "sum(J[1], J[8])"
   ]
  },
  {
   "cell_type": "markdown",
   "metadata": {},
   "source": [
    "### Ejercicio 3\n",
    "\n",
    "> Calcular la suma de los números naturales del 1 al 100 usando R.\n",
    "\n",
    "### Solución 3"
   ]
  },
  {
   "cell_type": "code",
   "execution_count": 8,
   "metadata": {
    "ExecuteTime": {
     "end_time": "2020-04-15T01:13:20.031154Z",
     "start_time": "2020-04-15T01:13:19.755Z"
    }
   },
   "outputs": [
    {
     "data": {
      "text/html": [
       "5050"
      ],
      "text/latex": [
       "5050"
      ],
      "text/markdown": [
       "5050"
      ],
      "text/plain": [
       "[1] 5050"
      ]
     },
     "metadata": {},
     "output_type": "display_data"
    }
   ],
   "source": [
    "sum(1:100)"
   ]
  },
  {
   "cell_type": "markdown",
   "metadata": {},
   "source": [
    "### Ejercicio 4\n",
    "\n",
    "> Calcular la suma de los cuadrados de los números naturales del 1 al 100 usando R.\n",
    "\n",
    "### Solución 4"
   ]
  },
  {
   "cell_type": "code",
   "execution_count": 9,
   "metadata": {
    "ExecuteTime": {
     "end_time": "2020-04-15T01:13:20.044059Z",
     "start_time": "2020-04-15T01:13:19.760Z"
    }
   },
   "outputs": [
    {
     "data": {
      "text/html": [
       "338350"
      ],
      "text/latex": [
       "338350"
      ],
      "text/markdown": [
       "338350"
      ],
      "text/plain": [
       "[1] 338350"
      ]
     },
     "metadata": {},
     "output_type": "display_data"
    }
   ],
   "source": [
    "sum(c(1:100)^2)"
   ]
  },
  {
   "cell_type": "markdown",
   "metadata": {},
   "source": [
    "### Ejercicio 5\n",
    "\n",
    ">Considerar el conjunto de datos *airquality*, incluído en la librería *datasets*.\n",
    ">\n",
    ">Pida ayuda con el comando `?airquality` para obtener información."
   ]
  },
  {
   "cell_type": "code",
   "execution_count": 10,
   "metadata": {
    "ExecuteTime": {
     "end_time": "2020-04-15T01:13:20.073646Z",
     "start_time": "2020-04-15T01:13:19.765Z"
    }
   },
   "outputs": [
    {
     "data": {
      "text/html": [
       "<table>\n",
       "<thead><tr><th scope=col>Ozone</th><th scope=col>Solar.R</th><th scope=col>Wind</th><th scope=col>Temp</th><th scope=col>Month</th><th scope=col>Day</th></tr></thead>\n",
       "<tbody>\n",
       "\t<tr><td>41  </td><td>190 </td><td> 7.4</td><td>67  </td><td>5   </td><td>1   </td></tr>\n",
       "\t<tr><td>36  </td><td>118 </td><td> 8.0</td><td>72  </td><td>5   </td><td>2   </td></tr>\n",
       "\t<tr><td>12  </td><td>149 </td><td>12.6</td><td>74  </td><td>5   </td><td>3   </td></tr>\n",
       "\t<tr><td>18  </td><td>313 </td><td>11.5</td><td>62  </td><td>5   </td><td>4   </td></tr>\n",
       "\t<tr><td>NA  </td><td> NA </td><td>14.3</td><td>56  </td><td>5   </td><td>5   </td></tr>\n",
       "\t<tr><td>28  </td><td> NA </td><td>14.9</td><td>66  </td><td>5   </td><td>6   </td></tr>\n",
       "</tbody>\n",
       "</table>\n"
      ],
      "text/latex": [
       "\\begin{tabular}{r|llllll}\n",
       " Ozone & Solar.R & Wind & Temp & Month & Day\\\\\n",
       "\\hline\n",
       "\t 41   & 190  &  7.4 & 67   & 5    & 1   \\\\\n",
       "\t 36   & 118  &  8.0 & 72   & 5    & 2   \\\\\n",
       "\t 12   & 149  & 12.6 & 74   & 5    & 3   \\\\\n",
       "\t 18   & 313  & 11.5 & 62   & 5    & 4   \\\\\n",
       "\t NA   &  NA  & 14.3 & 56   & 5    & 5   \\\\\n",
       "\t 28   &  NA  & 14.9 & 66   & 5    & 6   \\\\\n",
       "\\end{tabular}\n"
      ],
      "text/markdown": [
       "\n",
       "| Ozone | Solar.R | Wind | Temp | Month | Day |\n",
       "|---|---|---|---|---|---|\n",
       "| 41   | 190  |  7.4 | 67   | 5    | 1    |\n",
       "| 36   | 118  |  8.0 | 72   | 5    | 2    |\n",
       "| 12   | 149  | 12.6 | 74   | 5    | 3    |\n",
       "| 18   | 313  | 11.5 | 62   | 5    | 4    |\n",
       "| NA   |  NA  | 14.3 | 56   | 5    | 5    |\n",
       "| 28   |  NA  | 14.9 | 66   | 5    | 6    |\n",
       "\n"
      ],
      "text/plain": [
       "  Ozone Solar.R Wind Temp Month Day\n",
       "1 41    190      7.4 67   5     1  \n",
       "2 36    118      8.0 72   5     2  \n",
       "3 12    149     12.6 74   5     3  \n",
       "4 18    313     11.5 62   5     4  \n",
       "5 NA     NA     14.3 56   5     5  \n",
       "6 28     NA     14.9 66   5     6  "
      ]
     },
     "metadata": {},
     "output_type": "display_data"
    }
   ],
   "source": [
    "#?airquality\n",
    "head(airquality)"
   ]
  },
  {
   "cell_type": "markdown",
   "metadata": {},
   "source": [
    "### Ejercicio 5.a\n",
    "\n",
    "> ¿Cuántas **observaciones** tiene el conjunto de datos? ¿Cuántas **variables**?"
   ]
  },
  {
   "cell_type": "markdown",
   "metadata": {},
   "source": [
    "### Respuesta 5.a\n",
    "\n",
    "La cantidad de **observaciones** corresponde con la totalidad de datos observados, donde **cada dato observado**, incluye la totalidad de las **variables** que lo caracterizan.\n",
    "\n",
    "En otras palabras, las **observaciones** se corresponden con las **filas**, y la **variables** (*características*) se corresponden con las **columnas**.\n",
    "\n",
    "De la documentación:\n",
    "> *A data frame with 154 observations on 6 variables.*\n",
    "\n",
    "Podemos obtener que:\n",
    "\n",
    "> La cantidad de **observaciones** es **154**\n",
    ">\n",
    "> La cantidad de **variables** es **6**"
   ]
  },
  {
   "cell_type": "markdown",
   "metadata": {
    "ExecuteTime": {
     "end_time": "2020-04-13T21:31:29.245653Z",
     "start_time": "2020-04-13T21:31:29.230Z"
    }
   },
   "source": [
    "### Ejercicio 5.b\n",
    "\n",
    "> ¿Cuáles son los **nombres de las variables**?\n",
    "\n",
    "### Respuesta 5.b\n",
    "\n",
    "Usando nuevamente la documentación, los **nombres de las variables** son:\n",
    "\n",
    "> **Ozone**\n",
    ">\n",
    "> **Solar.R**\n",
    ">\n",
    "> **Wind**\n",
    ">\n",
    "> **Temp**\n",
    ">\n",
    "> **Month**\n",
    ">\n",
    "> **Day**"
   ]
  },
  {
   "cell_type": "markdown",
   "metadata": {
    "ExecuteTime": {
     "end_time": "2020-04-13T21:31:54.882553Z",
     "start_time": "2020-04-13T21:31:54.864Z"
    }
   },
   "source": [
    "### Ejercicio 5.c\n",
    "\n",
    ">¿Qué variables tienen **datos faltantes**?\n",
    "\n",
    "### Solución 5.c\n",
    "\n",
    "Usando el comando `is.na` podemos obtener una matriz de valores booleanos en la que habrá **verdaderos** donde **existan datos faltantes** (*NA*).\n",
    "\n",
    "Sumando todos estos valores por columnas, podemos determinar qué **variables** (*columnas*) poseen NAs, donde cada NA contará como un **1** (verdadero)."
   ]
  },
  {
   "cell_type": "code",
   "execution_count": 11,
   "metadata": {
    "ExecuteTime": {
     "end_time": "2020-04-15T01:13:20.090093Z",
     "start_time": "2020-04-15T01:13:19.772Z"
    }
   },
   "outputs": [
    {
     "data": {
      "text/html": [
       "<dl class=dl-horizontal>\n",
       "\t<dt>Ozone</dt>\n",
       "\t\t<dd>37</dd>\n",
       "\t<dt>Solar.R</dt>\n",
       "\t\t<dd>7</dd>\n",
       "\t<dt>Wind</dt>\n",
       "\t\t<dd>0</dd>\n",
       "\t<dt>Temp</dt>\n",
       "\t\t<dd>0</dd>\n",
       "\t<dt>Month</dt>\n",
       "\t\t<dd>0</dd>\n",
       "\t<dt>Day</dt>\n",
       "\t\t<dd>0</dd>\n",
       "</dl>\n"
      ],
      "text/latex": [
       "\\begin{description*}\n",
       "\\item[Ozone] 37\n",
       "\\item[Solar.R] 7\n",
       "\\item[Wind] 0\n",
       "\\item[Temp] 0\n",
       "\\item[Month] 0\n",
       "\\item[Day] 0\n",
       "\\end{description*}\n"
      ],
      "text/markdown": [
       "Ozone\n",
       ":   37Solar.R\n",
       ":   7Wind\n",
       ":   0Temp\n",
       ":   0Month\n",
       ":   0Day\n",
       ":   0\n",
       "\n"
      ],
      "text/plain": [
       "  Ozone Solar.R    Wind    Temp   Month     Day \n",
       "     37       7       0       0       0       0 "
      ]
     },
     "metadata": {},
     "output_type": "display_data"
    }
   ],
   "source": [
    "colSums(is.na(airquality))"
   ]
  },
  {
   "cell_type": "markdown",
   "metadata": {},
   "source": [
    "> Las variables que poseen **valores faltantes** son **Ozone** y **Solar.R**"
   ]
  },
  {
   "cell_type": "markdown",
   "metadata": {},
   "source": [
    "### Ejercicio 5.d\n",
    "\n",
    "> d ) ¿Cuántas observaciones corresponden al **mes de mayo**?\n",
    "\n",
    "### Solución 5.d\n",
    "\n",
    "Podemos filtrar la columna `Month` usando `airquality$Month`, y generar una máscara booleana a partir de ella, para luego sumar sus componentes (los `TRUE` valdrán 1, los `FALSE` valdrán 0 )"
   ]
  },
  {
   "cell_type": "code",
   "execution_count": 12,
   "metadata": {
    "ExecuteTime": {
     "end_time": "2020-04-15T01:13:20.105133Z",
     "start_time": "2020-04-15T01:13:19.778Z"
    }
   },
   "outputs": [
    {
     "data": {
      "text/html": [
       "31"
      ],
      "text/latex": [
       "31"
      ],
      "text/markdown": [
       "31"
      ],
      "text/plain": [
       "[1] 31"
      ]
     },
     "metadata": {},
     "output_type": "display_data"
    }
   ],
   "source": [
    "sum(airquality$Month == 5)"
   ]
  },
  {
   "cell_type": "markdown",
   "metadata": {},
   "source": [
    "> Existen **31** observaciones en el mes de Mayo"
   ]
  },
  {
   "cell_type": "markdown",
   "metadata": {},
   "source": [
    "### Ejercicio 6\n",
    "\n",
    "Considerar el conjunto de datos `mtcars` en R.\n",
    "\n",
    "(Ver `help(mtcars)`)"
   ]
  },
  {
   "cell_type": "code",
   "execution_count": 13,
   "metadata": {
    "ExecuteTime": {
     "end_time": "2020-04-15T01:13:20.126025Z",
     "start_time": "2020-04-15T01:13:19.785Z"
    }
   },
   "outputs": [
    {
     "data": {
      "text/html": [
       "<table>\n",
       "<thead><tr><th></th><th scope=col>mpg</th><th scope=col>cyl</th><th scope=col>disp</th><th scope=col>hp</th><th scope=col>drat</th><th scope=col>wt</th><th scope=col>qsec</th><th scope=col>vs</th><th scope=col>am</th><th scope=col>gear</th><th scope=col>carb</th></tr></thead>\n",
       "<tbody>\n",
       "\t<tr><th scope=row>Mazda RX4</th><td>21.0 </td><td>6    </td><td>160  </td><td>110  </td><td>3.90 </td><td>2.620</td><td>16.46</td><td>0    </td><td>1    </td><td>4    </td><td>4    </td></tr>\n",
       "\t<tr><th scope=row>Mazda RX4 Wag</th><td>21.0 </td><td>6    </td><td>160  </td><td>110  </td><td>3.90 </td><td>2.875</td><td>17.02</td><td>0    </td><td>1    </td><td>4    </td><td>4    </td></tr>\n",
       "\t<tr><th scope=row>Datsun 710</th><td>22.8 </td><td>4    </td><td>108  </td><td> 93  </td><td>3.85 </td><td>2.320</td><td>18.61</td><td>1    </td><td>1    </td><td>4    </td><td>1    </td></tr>\n",
       "\t<tr><th scope=row>Hornet 4 Drive</th><td>21.4 </td><td>6    </td><td>258  </td><td>110  </td><td>3.08 </td><td>3.215</td><td>19.44</td><td>1    </td><td>0    </td><td>3    </td><td>1    </td></tr>\n",
       "\t<tr><th scope=row>Hornet Sportabout</th><td>18.7 </td><td>8    </td><td>360  </td><td>175  </td><td>3.15 </td><td>3.440</td><td>17.02</td><td>0    </td><td>0    </td><td>3    </td><td>2    </td></tr>\n",
       "\t<tr><th scope=row>Valiant</th><td>18.1 </td><td>6    </td><td>225  </td><td>105  </td><td>2.76 </td><td>3.460</td><td>20.22</td><td>1    </td><td>0    </td><td>3    </td><td>1    </td></tr>\n",
       "</tbody>\n",
       "</table>\n"
      ],
      "text/latex": [
       "\\begin{tabular}{r|lllllllllll}\n",
       "  & mpg & cyl & disp & hp & drat & wt & qsec & vs & am & gear & carb\\\\\n",
       "\\hline\n",
       "\tMazda RX4 & 21.0  & 6     & 160   & 110   & 3.90  & 2.620 & 16.46 & 0     & 1     & 4     & 4    \\\\\n",
       "\tMazda RX4 Wag & 21.0  & 6     & 160   & 110   & 3.90  & 2.875 & 17.02 & 0     & 1     & 4     & 4    \\\\\n",
       "\tDatsun 710 & 22.8  & 4     & 108   &  93   & 3.85  & 2.320 & 18.61 & 1     & 1     & 4     & 1    \\\\\n",
       "\tHornet 4 Drive & 21.4  & 6     & 258   & 110   & 3.08  & 3.215 & 19.44 & 1     & 0     & 3     & 1    \\\\\n",
       "\tHornet Sportabout & 18.7  & 8     & 360   & 175   & 3.15  & 3.440 & 17.02 & 0     & 0     & 3     & 2    \\\\\n",
       "\tValiant & 18.1  & 6     & 225   & 105   & 2.76  & 3.460 & 20.22 & 1     & 0     & 3     & 1    \\\\\n",
       "\\end{tabular}\n"
      ],
      "text/markdown": [
       "\n",
       "| <!--/--> | mpg | cyl | disp | hp | drat | wt | qsec | vs | am | gear | carb |\n",
       "|---|---|---|---|---|---|---|---|---|---|---|---|\n",
       "| Mazda RX4 | 21.0  | 6     | 160   | 110   | 3.90  | 2.620 | 16.46 | 0     | 1     | 4     | 4     |\n",
       "| Mazda RX4 Wag | 21.0  | 6     | 160   | 110   | 3.90  | 2.875 | 17.02 | 0     | 1     | 4     | 4     |\n",
       "| Datsun 710 | 22.8  | 4     | 108   |  93   | 3.85  | 2.320 | 18.61 | 1     | 1     | 4     | 1     |\n",
       "| Hornet 4 Drive | 21.4  | 6     | 258   | 110   | 3.08  | 3.215 | 19.44 | 1     | 0     | 3     | 1     |\n",
       "| Hornet Sportabout | 18.7  | 8     | 360   | 175   | 3.15  | 3.440 | 17.02 | 0     | 0     | 3     | 2     |\n",
       "| Valiant | 18.1  | 6     | 225   | 105   | 2.76  | 3.460 | 20.22 | 1     | 0     | 3     | 1     |\n",
       "\n"
      ],
      "text/plain": [
       "                  mpg  cyl disp hp  drat wt    qsec  vs am gear carb\n",
       "Mazda RX4         21.0 6   160  110 3.90 2.620 16.46 0  1  4    4   \n",
       "Mazda RX4 Wag     21.0 6   160  110 3.90 2.875 17.02 0  1  4    4   \n",
       "Datsun 710        22.8 4   108   93 3.85 2.320 18.61 1  1  4    1   \n",
       "Hornet 4 Drive    21.4 6   258  110 3.08 3.215 19.44 1  0  3    1   \n",
       "Hornet Sportabout 18.7 8   360  175 3.15 3.440 17.02 0  0  3    2   \n",
       "Valiant           18.1 6   225  105 2.76 3.460 20.22 1  0  3    1   "
      ]
     },
     "metadata": {},
     "output_type": "display_data"
    }
   ],
   "source": [
    "#help(mtcars)\n",
    "head(mtcars)"
   ]
  },
  {
   "cell_type": "markdown",
   "metadata": {},
   "source": [
    "### Ejercicio 6.a\n",
    "\n",
    ">¿Qué autos tienen **4 velocidades**?\n",
    "\n",
    "### Solución 6.a\n",
    "\n",
    "Podemos filtrar la columna de velocidades (`gear`) para obtener todas las observaciones que coincidan, y extraer de ellas solo los **nombres de las filas**, que corresponden a los **modelos de los vehículos**."
   ]
  },
  {
   "cell_type": "code",
   "execution_count": 14,
   "metadata": {
    "ExecuteTime": {
     "end_time": "2020-04-15T01:13:20.150998Z",
     "start_time": "2020-04-15T01:13:19.791Z"
    }
   },
   "outputs": [
    {
     "data": {
      "text/html": [
       "<ol>\n",
       "\t<li>'Mazda RX4'</li>\n",
       "\t<li>'Mazda RX4 Wag'</li>\n",
       "\t<li>'Datsun 710'</li>\n",
       "\t<li>'Merc 240D'</li>\n",
       "\t<li>'Merc 230'</li>\n",
       "\t<li>'Merc 280'</li>\n",
       "\t<li>'Merc 280C'</li>\n",
       "\t<li>'Fiat 128'</li>\n",
       "\t<li>'Honda Civic'</li>\n",
       "\t<li>'Toyota Corolla'</li>\n",
       "\t<li>'Fiat X1-9'</li>\n",
       "\t<li>'Volvo 142E'</li>\n",
       "</ol>\n"
      ],
      "text/latex": [
       "\\begin{enumerate}\n",
       "\\item 'Mazda RX4'\n",
       "\\item 'Mazda RX4 Wag'\n",
       "\\item 'Datsun 710'\n",
       "\\item 'Merc 240D'\n",
       "\\item 'Merc 230'\n",
       "\\item 'Merc 280'\n",
       "\\item 'Merc 280C'\n",
       "\\item 'Fiat 128'\n",
       "\\item 'Honda Civic'\n",
       "\\item 'Toyota Corolla'\n",
       "\\item 'Fiat X1-9'\n",
       "\\item 'Volvo 142E'\n",
       "\\end{enumerate}\n"
      ],
      "text/markdown": [
       "1. 'Mazda RX4'\n",
       "2. 'Mazda RX4 Wag'\n",
       "3. 'Datsun 710'\n",
       "4. 'Merc 240D'\n",
       "5. 'Merc 230'\n",
       "6. 'Merc 280'\n",
       "7. 'Merc 280C'\n",
       "8. 'Fiat 128'\n",
       "9. 'Honda Civic'\n",
       "10. 'Toyota Corolla'\n",
       "11. 'Fiat X1-9'\n",
       "12. 'Volvo 142E'\n",
       "\n",
       "\n"
      ],
      "text/plain": [
       "[[1]]\n",
       "[1] \"Mazda RX4\"\n",
       "\n",
       "[[2]]\n",
       "[1] \"Mazda RX4 Wag\"\n",
       "\n",
       "[[3]]\n",
       "[1] \"Datsun 710\"\n",
       "\n",
       "[[4]]\n",
       "[1] \"Merc 240D\"\n",
       "\n",
       "[[5]]\n",
       "[1] \"Merc 230\"\n",
       "\n",
       "[[6]]\n",
       "[1] \"Merc 280\"\n",
       "\n",
       "[[7]]\n",
       "[1] \"Merc 280C\"\n",
       "\n",
       "[[8]]\n",
       "[1] \"Fiat 128\"\n",
       "\n",
       "[[9]]\n",
       "[1] \"Honda Civic\"\n",
       "\n",
       "[[10]]\n",
       "[1] \"Toyota Corolla\"\n",
       "\n",
       "[[11]]\n",
       "[1] \"Fiat X1-9\"\n",
       "\n",
       "[[12]]\n",
       "[1] \"Volvo 142E\"\n"
      ]
     },
     "metadata": {},
     "output_type": "display_data"
    }
   ],
   "source": [
    "as.list(row.names(mtcars[mtcars$gear == 4,]))"
   ]
  },
  {
   "cell_type": "markdown",
   "metadata": {
    "ExecuteTime": {
     "end_time": "2020-04-13T22:47:09.307101Z",
     "start_time": "2020-04-13T22:47:09.292Z"
    }
   },
   "source": [
    "> Los modelos de automóviles con **4 velocidades** son los **listados anteriormente**."
   ]
  },
  {
   "cell_type": "markdown",
   "metadata": {},
   "source": [
    "### Ejercicio 6.b\n",
    "\n",
    ">¿Qué subconjunto de `mtcars` es `mtcars[mtcars$disp > 150 & mtcars$mpg > 20,]`?\n",
    "\n",
    "### Solucion 6.b\n",
    "\n",
    "El código dado devuelve solo los automóviles con **cilindrada** (*engine displacement*) **mayor a 150 pulgadas cúbicas** ($\\approx 2458 \\ cm^3$ ) **y que además** consuman más de **20 galones por milla** recorrida ($\\approx 47.043 \\ L/Km$)  ."
   ]
  },
  {
   "cell_type": "code",
   "execution_count": 15,
   "metadata": {
    "ExecuteTime": {
     "end_time": "2020-04-15T01:13:20.168508Z",
     "start_time": "2020-04-15T01:13:19.798Z"
    }
   },
   "outputs": [
    {
     "data": {
      "text/html": [
       "<ol>\n",
       "\t<li>'Mazda RX4'</li>\n",
       "\t<li>'Mazda RX4 Wag'</li>\n",
       "\t<li>'Hornet 4 Drive'</li>\n",
       "</ol>\n"
      ],
      "text/latex": [
       "\\begin{enumerate}\n",
       "\\item 'Mazda RX4'\n",
       "\\item 'Mazda RX4 Wag'\n",
       "\\item 'Hornet 4 Drive'\n",
       "\\end{enumerate}\n"
      ],
      "text/markdown": [
       "1. 'Mazda RX4'\n",
       "2. 'Mazda RX4 Wag'\n",
       "3. 'Hornet 4 Drive'\n",
       "\n",
       "\n"
      ],
      "text/plain": [
       "[[1]]\n",
       "[1] \"Mazda RX4\"\n",
       "\n",
       "[[2]]\n",
       "[1] \"Mazda RX4 Wag\"\n",
       "\n",
       "[[3]]\n",
       "[1] \"Hornet 4 Drive\"\n"
      ]
     },
     "metadata": {},
     "output_type": "display_data"
    }
   ],
   "source": [
    "as.list(row.names(mtcars[mtcars$disp > 150 & mtcars$mpg > 20,]))"
   ]
  },
  {
   "cell_type": "markdown",
   "metadata": {},
   "source": [
    "> Los 3 automóviles en cuestión son los **listados anteriormente**."
   ]
  },
  {
   "cell_type": "markdown",
   "metadata": {},
   "source": [
    "### Ejercicio 6.c\n",
    "\n",
    ">¿Qué autos tienen **4 velocidades** y **transmisión manual**?\n",
    "\n",
    "### Solución 6.c\n",
    "\n",
    "La variable binaria `am` indica cuándo un automóvil tiene transmisión manual (`1`) o automática (`0`)"
   ]
  },
  {
   "cell_type": "code",
   "execution_count": 16,
   "metadata": {
    "ExecuteTime": {
     "end_time": "2020-04-15T01:13:20.186323Z",
     "start_time": "2020-04-15T01:13:19.804Z"
    }
   },
   "outputs": [
    {
     "data": {
      "text/html": [
       "<ol>\n",
       "\t<li>'Mazda RX4'</li>\n",
       "\t<li>'Mazda RX4 Wag'</li>\n",
       "\t<li>'Datsun 710'</li>\n",
       "\t<li>'Fiat 128'</li>\n",
       "\t<li>'Honda Civic'</li>\n",
       "\t<li>'Toyota Corolla'</li>\n",
       "\t<li>'Fiat X1-9'</li>\n",
       "\t<li>'Volvo 142E'</li>\n",
       "</ol>\n"
      ],
      "text/latex": [
       "\\begin{enumerate}\n",
       "\\item 'Mazda RX4'\n",
       "\\item 'Mazda RX4 Wag'\n",
       "\\item 'Datsun 710'\n",
       "\\item 'Fiat 128'\n",
       "\\item 'Honda Civic'\n",
       "\\item 'Toyota Corolla'\n",
       "\\item 'Fiat X1-9'\n",
       "\\item 'Volvo 142E'\n",
       "\\end{enumerate}\n"
      ],
      "text/markdown": [
       "1. 'Mazda RX4'\n",
       "2. 'Mazda RX4 Wag'\n",
       "3. 'Datsun 710'\n",
       "4. 'Fiat 128'\n",
       "5. 'Honda Civic'\n",
       "6. 'Toyota Corolla'\n",
       "7. 'Fiat X1-9'\n",
       "8. 'Volvo 142E'\n",
       "\n",
       "\n"
      ],
      "text/plain": [
       "[[1]]\n",
       "[1] \"Mazda RX4\"\n",
       "\n",
       "[[2]]\n",
       "[1] \"Mazda RX4 Wag\"\n",
       "\n",
       "[[3]]\n",
       "[1] \"Datsun 710\"\n",
       "\n",
       "[[4]]\n",
       "[1] \"Fiat 128\"\n",
       "\n",
       "[[5]]\n",
       "[1] \"Honda Civic\"\n",
       "\n",
       "[[6]]\n",
       "[1] \"Toyota Corolla\"\n",
       "\n",
       "[[7]]\n",
       "[1] \"Fiat X1-9\"\n",
       "\n",
       "[[8]]\n",
       "[1] \"Volvo 142E\"\n"
      ]
     },
     "metadata": {},
     "output_type": "display_data"
    }
   ],
   "source": [
    "as.list(row.names(mtcars[mtcars$gear == 4 & mtcars$am == 1,]))"
   ]
  },
  {
   "cell_type": "markdown",
   "metadata": {},
   "source": [
    "> Los automóviles con **4 velocidades** y **transmisión manual** están **listados anteriormente**."
   ]
  },
  {
   "cell_type": "markdown",
   "metadata": {},
   "source": [
    "### Ejercicio 6.d\n",
    "\n",
    ">Hallar la **cantidad media de millas por galón** de los autos con **2 carburadores**.\n",
    "\n",
    "### Solución 6.d"
   ]
  },
  {
   "cell_type": "code",
   "execution_count": 17,
   "metadata": {
    "ExecuteTime": {
     "end_time": "2020-04-15T01:13:20.202263Z",
     "start_time": "2020-04-15T01:13:19.809Z"
    }
   },
   "outputs": [
    {
     "data": {
      "text/html": [
       "22.4"
      ],
      "text/latex": [
       "22.4"
      ],
      "text/markdown": [
       "22.4"
      ],
      "text/plain": [
       "[1] 22.4"
      ]
     },
     "metadata": {},
     "output_type": "display_data"
    }
   ],
   "source": [
    "mean(mtcars[mtcars$carb == 2, 'mpg'])"
   ]
  },
  {
   "cell_type": "markdown",
   "metadata": {},
   "source": [
    "> La **cantidad media de millas por galón** de autos con **2 carburadores** es de **22.4**"
   ]
  },
  {
   "cell_type": "markdown",
   "metadata": {
    "ExecuteTime": {
     "end_time": "2020-04-13T23:04:42.521634Z",
     "start_time": "2020-04-13T23:04:42.471Z"
    }
   },
   "source": [
    "### Ejercicio 7\n",
    "\n",
    "El conjunto de datos ***arbolado-en-espacios-verdes.csv*** contiene datos de 2011 de **todos los árboles de los espacios verdes de la ciudad de Buenos Aires**.\n",
    "\n",
    "Los datos actualizados pueden encontrarse [aquí](https://data.buenosaires.gob.ar/dataset/arbolado-espacios-verdes), junto con una descripción de los mismos.\n",
    "\n"
   ]
  },
  {
   "cell_type": "markdown",
   "metadata": {},
   "source": [
    "### Ejercicio 7.a\n",
    "\n",
    "> ¿Cuántas **observaciones** tiene el conjunto de datos? ¿Cuántas **variables**?\n",
    "\n",
    "### Solución 7.a\n",
    "\n",
    "Cargamos los datos del .csv en el mismo directorio que esta notebook."
   ]
  },
  {
   "cell_type": "code",
   "execution_count": 18,
   "metadata": {
    "ExecuteTime": {
     "end_time": "2020-04-15T01:13:20.771362Z",
     "start_time": "2020-04-15T01:13:19.814Z"
    }
   },
   "outputs": [],
   "source": [
    "data <- read.csv('./arbolado-en-espacios-verdes.csv')\n",
    "#head(data)"
   ]
  },
  {
   "cell_type": "markdown",
   "metadata": {},
   "source": [
    "Bajo la misma descripción que en el ejercicio **5.a**, podemos establecer la **cantidad de observaciones** a partir de la **cantidad de filas**, y la **cantidad de variables** a partir de las **columnas**:"
   ]
  },
  {
   "cell_type": "code",
   "execution_count": 19,
   "metadata": {
    "ExecuteTime": {
     "end_time": "2020-04-15T01:13:20.790246Z",
     "start_time": "2020-04-15T01:13:19.819Z"
    }
   },
   "outputs": [
    {
     "data": {
      "text/html": [
       "51502"
      ],
      "text/latex": [
       "51502"
      ],
      "text/markdown": [
       "51502"
      ],
      "text/plain": [
       "[1] 51502"
      ]
     },
     "metadata": {},
     "output_type": "display_data"
    },
    {
     "data": {
      "text/html": [
       "17"
      ],
      "text/latex": [
       "17"
      ],
      "text/markdown": [
       "17"
      ],
      "text/plain": [
       "[1] 17"
      ]
     },
     "metadata": {},
     "output_type": "display_data"
    }
   ],
   "source": [
    "nrow(data)\n",
    "ncol(data)"
   ]
  },
  {
   "cell_type": "markdown",
   "metadata": {},
   "source": [
    "> Podemos ver que los datos importados poseen **51.502 observaciones**, y **17 variables**"
   ]
  },
  {
   "cell_type": "markdown",
   "metadata": {},
   "source": [
    "### Ejercicio 7.b\n",
    "\n",
    "> ¿Cuáles son los **nombres de las variables**?\n",
    "\n",
    "### Solución 7.b\n",
    "\n",
    "Usando el comando `colnames` podemos mostrar los nombres de cada una de las columnas del data frame:"
   ]
  },
  {
   "cell_type": "code",
   "execution_count": 20,
   "metadata": {
    "ExecuteTime": {
     "end_time": "2020-04-15T01:13:20.809605Z",
     "start_time": "2020-04-15T01:13:19.824Z"
    }
   },
   "outputs": [
    {
     "data": {
      "text/html": [
       "<ol>\n",
       "\t<li>'long'</li>\n",
       "\t<li>'lat'</li>\n",
       "\t<li>'id_arbol'</li>\n",
       "\t<li>'altura_tot'</li>\n",
       "\t<li>'diametro'</li>\n",
       "\t<li>'inclinacio'</li>\n",
       "\t<li>'id_especie'</li>\n",
       "\t<li>'nombre_com'</li>\n",
       "\t<li>'nombre_cie'</li>\n",
       "\t<li>'tipo_folla'</li>\n",
       "\t<li>'espacio_ve'</li>\n",
       "\t<li>'ubicacion'</li>\n",
       "\t<li>'nombre_fam'</li>\n",
       "\t<li>'nombre_gen'</li>\n",
       "\t<li>'origen'</li>\n",
       "\t<li>'coord_x'</li>\n",
       "\t<li>'coord_y'</li>\n",
       "</ol>\n"
      ],
      "text/latex": [
       "\\begin{enumerate}\n",
       "\\item 'long'\n",
       "\\item 'lat'\n",
       "\\item 'id\\_arbol'\n",
       "\\item 'altura\\_tot'\n",
       "\\item 'diametro'\n",
       "\\item 'inclinacio'\n",
       "\\item 'id\\_especie'\n",
       "\\item 'nombre\\_com'\n",
       "\\item 'nombre\\_cie'\n",
       "\\item 'tipo\\_folla'\n",
       "\\item 'espacio\\_ve'\n",
       "\\item 'ubicacion'\n",
       "\\item 'nombre\\_fam'\n",
       "\\item 'nombre\\_gen'\n",
       "\\item 'origen'\n",
       "\\item 'coord\\_x'\n",
       "\\item 'coord\\_y'\n",
       "\\end{enumerate}\n"
      ],
      "text/markdown": [
       "1. 'long'\n",
       "2. 'lat'\n",
       "3. 'id_arbol'\n",
       "4. 'altura_tot'\n",
       "5. 'diametro'\n",
       "6. 'inclinacio'\n",
       "7. 'id_especie'\n",
       "8. 'nombre_com'\n",
       "9. 'nombre_cie'\n",
       "10. 'tipo_folla'\n",
       "11. 'espacio_ve'\n",
       "12. 'ubicacion'\n",
       "13. 'nombre_fam'\n",
       "14. 'nombre_gen'\n",
       "15. 'origen'\n",
       "16. 'coord_x'\n",
       "17. 'coord_y'\n",
       "\n",
       "\n"
      ],
      "text/plain": [
       "[[1]]\n",
       "[1] \"long\"\n",
       "\n",
       "[[2]]\n",
       "[1] \"lat\"\n",
       "\n",
       "[[3]]\n",
       "[1] \"id_arbol\"\n",
       "\n",
       "[[4]]\n",
       "[1] \"altura_tot\"\n",
       "\n",
       "[[5]]\n",
       "[1] \"diametro\"\n",
       "\n",
       "[[6]]\n",
       "[1] \"inclinacio\"\n",
       "\n",
       "[[7]]\n",
       "[1] \"id_especie\"\n",
       "\n",
       "[[8]]\n",
       "[1] \"nombre_com\"\n",
       "\n",
       "[[9]]\n",
       "[1] \"nombre_cie\"\n",
       "\n",
       "[[10]]\n",
       "[1] \"tipo_folla\"\n",
       "\n",
       "[[11]]\n",
       "[1] \"espacio_ve\"\n",
       "\n",
       "[[12]]\n",
       "[1] \"ubicacion\"\n",
       "\n",
       "[[13]]\n",
       "[1] \"nombre_fam\"\n",
       "\n",
       "[[14]]\n",
       "[1] \"nombre_gen\"\n",
       "\n",
       "[[15]]\n",
       "[1] \"origen\"\n",
       "\n",
       "[[16]]\n",
       "[1] \"coord_x\"\n",
       "\n",
       "[[17]]\n",
       "[1] \"coord_y\"\n"
      ]
     },
     "metadata": {},
     "output_type": "display_data"
    }
   ],
   "source": [
    "as.list(colnames(data))"
   ]
  },
  {
   "cell_type": "markdown",
   "metadata": {},
   "source": [
    "> Los nombres de las **17 variables** están **listados anteriormente**."
   ]
  },
  {
   "cell_type": "markdown",
   "metadata": {},
   "source": [
    "### Ejercicio 7.c\n",
    "\n",
    "> Calcular la **altura promedio de los árboles** de la ciudad.\n",
    "\n",
    "### Solución 7.c\n",
    "\n",
    "Podemos promediar la altura total de cada uno de los árboles (`altura_tot`):"
   ]
  },
  {
   "cell_type": "code",
   "execution_count": 21,
   "metadata": {
    "ExecuteTime": {
     "end_time": "2020-04-15T01:13:20.823740Z",
     "start_time": "2020-04-15T01:13:19.829Z"
    }
   },
   "outputs": [
    {
     "data": {
      "text/html": [
       "12.1671003067842"
      ],
      "text/latex": [
       "12.1671003067842"
      ],
      "text/markdown": [
       "12.1671003067842"
      ],
      "text/plain": [
       "[1] 12.1671"
      ]
     },
     "metadata": {},
     "output_type": "display_data"
    }
   ],
   "source": [
    "mean(data$altura_tot)"
   ]
  },
  {
   "cell_type": "markdown",
   "metadata": {},
   "source": [
    "> La **altura promedio** es de **12.167 metros**"
   ]
  },
  {
   "cell_type": "markdown",
   "metadata": {},
   "source": [
    "### Ejercicio 7.d\n",
    "\n",
    "> ¿Cuántos árboles había en 2011 en la plaza Arenales?\n",
    "\n",
    "### Solución 7.d\n",
    "\n",
    "Dado que las observaciones corresponden a **TODOS** los árboles de la ciudad, podemos contar la **cantidad de observaciones** en plaza Arenales, que se corresponderá con la **cantidad de árboles** en esa plaza."
   ]
  },
  {
   "cell_type": "code",
   "execution_count": 22,
   "metadata": {
    "ExecuteTime": {
     "end_time": "2020-04-15T01:13:20.868238Z",
     "start_time": "2020-04-15T01:13:19.835Z"
    }
   },
   "outputs": [
    {
     "data": {
      "text/html": [
       "198"
      ],
      "text/latex": [
       "198"
      ],
      "text/markdown": [
       "198"
      ],
      "text/plain": [
       "[1] 198"
      ]
     },
     "metadata": {},
     "output_type": "display_data"
    }
   ],
   "source": [
    "sum(data$espacio_ve == \"ARENALES\")"
   ]
  },
  {
   "cell_type": "markdown",
   "metadata": {},
   "source": [
    "> **Cantidad de árboles** en plaza Arenales (en 2011): **198**"
   ]
  },
  {
   "cell_type": "markdown",
   "metadata": {},
   "source": [
    "### Ejercicio 7.e\n",
    "\n",
    "> Construya un data.frame llamado `arboles_cercanos` que contenga sólo las filas correspondientes a su espacio verde favorito.\n",
    ">\n",
    "> Puede utilizar el comando sort para ordenar alfabéticamente un vector de caracteres.\n",
    "\n",
    "### Solución 7.e\n",
    "\n",
    "Elijo [Plaza Holanda](https://goo.gl/maps/dwu82ButCkrMU45Y9), cercano al Jardín Japonés. Un espacio verde amplio y con algunos árboles muy antíguos."
   ]
  },
  {
   "cell_type": "code",
   "execution_count": 23,
   "metadata": {
    "ExecuteTime": {
     "end_time": "2020-04-15T01:13:20.889314Z",
     "start_time": "2020-04-15T01:13:19.840Z"
    }
   },
   "outputs": [
    {
     "data": {
      "text/html": [
       "253"
      ],
      "text/latex": [
       "253"
      ],
      "text/markdown": [
       "253"
      ],
      "text/plain": [
       "[1] 253"
      ]
     },
     "metadata": {},
     "output_type": "display_data"
    }
   ],
   "source": [
    "arboles_cercanos <- data.frame(data[data$espacio_ve == \"HOLANDA\",])\n",
    "nrow(arboles_cercanos)\n",
    "#head(arboles_cercanos)"
   ]
  },
  {
   "cell_type": "markdown",
   "metadata": {},
   "source": [
    "### Ejercicio 7.f\n",
    "\n",
    "> Utilizando el comando `unique` averigüe los **nombres de los árboles** presentes en su espacio verde favorito en 2011.\n",
    "\n",
    "### Solución 7.f\n",
    "\n",
    "Los datos tienen tanto los nombres comunes de los árboles, como los nombres científicos, de la familia, y el género.\n",
    "\n",
    "Elijo los **nombres comunes** ya que en su gran parte son de conocimiento general."
   ]
  },
  {
   "cell_type": "code",
   "execution_count": 24,
   "metadata": {
    "ExecuteTime": {
     "end_time": "2020-04-15T01:13:20.924030Z",
     "start_time": "2020-04-15T01:13:19.847Z"
    }
   },
   "outputs": [
    {
     "data": {
      "text/html": [
       "<ol class=list-inline>\n",
       "\t<li>El chañar</li>\n",
       "\t<li>No Determinado</li>\n",
       "\t<li>Eucalipto</li>\n",
       "\t<li>No Determinable</li>\n",
       "\t<li>Palmito</li>\n",
       "\t<li>Fenix</li>\n",
       "\t<li>Jacarandá</li>\n",
       "\t<li>Plátano</li>\n",
       "\t<li>Coculus, Cóculo</li>\n",
       "\t<li>Washingtonia</li>\n",
       "\t<li>Celtis tala</li>\n",
       "\t<li>Cedro del Himalaya variedad aurea</li>\n",
       "\t<li>Bunya-bunya (Araucaria de Bidwill)</li>\n",
       "\t<li>Laurel</li>\n",
       "\t<li>Ligustro disciplinado (Ligustro variegado)</li>\n",
       "\t<li>Tipa blanca</li>\n",
       "\t<li>Palo borracho rosado</li>\n",
       "\t<li>Magnolia</li>\n",
       "\t<li>Almez (Almecino o Almecina)</li>\n",
       "\t<li>Liquidambar</li>\n",
       "\t<li>Árbol del cielo (Ailanto o Árbol de los dioses)</li>\n",
       "\t<li>Naranjo amargo</li>\n",
       "\t<li>Lapacho amarillo</li>\n",
       "\t<li>Sófora japónica</li>\n",
       "\t<li>Álamo plateado</li>\n",
       "\t<li>Pino del Paraná (Pino de Misiones o Pino de Brasil)</li>\n",
       "\t<li>Ginkgo</li>\n",
       "\t<li>Morera blanca</li>\n",
       "\t<li>Encina</li>\n",
       "\t<li>Pino de las canarias</li>\n",
       "\t<li>Falso alerce</li>\n",
       "\t<li>Ombú</li>\n",
       "\t<li>Coronillo</li>\n",
       "\t<li>Robusta</li>\n",
       "\t<li>Washingtonia (Palmera washingtonia)</li>\n",
       "\t<li>Palma de california</li>\n",
       "\t<li>Pindó</li>\n",
       "\t<li>Arrayán (Anacahuita)</li>\n",
       "\t<li>Tejo chino</li>\n",
       "\t<li>Quebracho colorado</li>\n",
       "\t<li>Roble palustre</li>\n",
       "\t<li>Crespón (Àrbol de Júpiter)</li>\n",
       "\t<li>Arbol de las orquideas</li>\n",
       "\t<li>Álamo carolina</li>\n",
       "\t<li>Eucalipto sideroxylon</li>\n",
       "\t<li>Ligustro</li>\n",
       "\t<li>Cefalotaxus</li>\n",
       "\t<li>Cedro del Himalaya</li>\n",
       "\t<li>Fotinia</li>\n",
       "\t<li>Cica</li>\n",
       "\t<li>Roble sedoso (Grevillea)</li>\n",
       "\t<li>Eucalipto (Eucalipto común)</li>\n",
       "\t<li>Ciprés</li>\n",
       "</ol>\n",
       "\n",
       "<details>\n",
       "\t<summary style=display:list-item;cursor:pointer>\n",
       "\t\t<strong>Levels</strong>:\n",
       "\t</summary>\n",
       "\t<ol class=list-inline>\n",
       "\t\t<li>'Abedul blanco'</li>\n",
       "\t\t<li>'Abedul común (Abedul de Europa o Abedul verrugoso)'</li>\n",
       "\t\t<li>'Abutilo'</li>\n",
       "\t\t<li>'Acacia'</li>\n",
       "\t\t<li>'Acacia blanca'</li>\n",
       "\t\t<li>'Acacia bola'</li>\n",
       "\t\t<li>'Acacia de Baile (Mimosa de Baile)'</li>\n",
       "\t\t<li>'Acacia de constantinopla'</li>\n",
       "\t\t<li>'Acacia frisia'</li>\n",
       "\t\t<li>'Acacia negra'</li>\n",
       "\t\t<li>'Acacia rosada'</li>\n",
       "\t\t<li>'Acacia verde'</li>\n",
       "\t\t<li>'Adelfa amarilla'</li>\n",
       "\t\t<li>'Aesculus'</li>\n",
       "\t\t<li>'Afrocarpus'</li>\n",
       "\t\t<li>'Agatis blanco'</li>\n",
       "\t\t<li>'Agave vivipara'</li>\n",
       "\t\t<li>'Aguaribay'</li>\n",
       "\t\t<li>'Ahuehuete'</li>\n",
       "\t\t<li>'Álamo'</li>\n",
       "\t\t<li>'Álamo blanco piramidal'</li>\n",
       "\t\t<li>'Álamo carolina'</li>\n",
       "\t\t<li>'Álamo de Italia'</li>\n",
       "\t\t<li>'Álamo negro'</li>\n",
       "\t\t<li>'Álamo negro del Canada'</li>\n",
       "\t\t<li>'Álamo plateado'</li>\n",
       "\t\t<li>'Alcanforero'</li>\n",
       "\t\t<li>'Alcornoque'</li>\n",
       "\t\t<li>'Algarrobo'</li>\n",
       "\t\t<li>'Algarrobo Blanco'</li>\n",
       "\t\t<li>'Aliso de río'</li>\n",
       "\t\t<li>'Almez (Almecino o Almecina)'</li>\n",
       "\t\t<li>'Almez de china'</li>\n",
       "\t\t<li>'Aralia'</li>\n",
       "\t\t<li>'Aralia elegantisima'</li>\n",
       "\t\t<li>'Aralia variegada'</li>\n",
       "\t\t<li>'Araucaria'</li>\n",
       "\t\t<li>'Araucaria (Araucaria de pisos)'</li>\n",
       "\t\t<li>'Araucaria columnar'</li>\n",
       "\t\t<li>'Arbol de las orquideas'</li>\n",
       "\t\t<li>'Árbol de las pasas'</li>\n",
       "\t\t<li><span style=white-space:pre-wrap>'Árbol del amor (Ciclamor o  árbol de Judas'</span></li>\n",
       "\t\t<li>'Árbol del cielo (Ailanto o Árbol de los dioses)'</li>\n",
       "\t\t<li>'Árbol del humo'</li>\n",
       "\t\t<li>'Arbol del pomelo'</li>\n",
       "\t\t<li>'Árbol fuccia'</li>\n",
       "\t\t<li>'Arce'</li>\n",
       "\t\t<li>'Arce blanco'</li>\n",
       "\t\t<li><span style=white-space:pre-wrap>'Arce campestre (Arce común o  Arce menor)'</span></li>\n",
       "\t\t<li>'Arce japones'</li>\n",
       "\t\t<li>'Arce negundo'</li>\n",
       "\t\t<li>'Arce plateado (Arce blanco)'</li>\n",
       "\t\t<li>'Arce real'</li>\n",
       "\t\t<li>'Arce tridente'</li>\n",
       "\t\t<li>'Areca'</li>\n",
       "\t\t<li>'Arizónica (Ciprés de Arizona)'</li>\n",
       "\t\t<li>'Aromo'</li>\n",
       "\t\t<li>'Arrayán (Anacahuita)'</li>\n",
       "\t\t<li>'Aruera'</li>\n",
       "\t\t<li>'Avellano común'</li>\n",
       "\t\t<li>'Azarero'</li>\n",
       "\t\t<li>'Bananero'</li>\n",
       "\t\t<li>'Betula'</li>\n",
       "\t\t<li>'Boj cepillo'</li>\n",
       "\t\t<li>'Boj común'</li>\n",
       "\t\t<li>'Bola de nieve'</li>\n",
       "\t\t<li>'Boungavillea'</li>\n",
       "\t\t<li>'Brachichito rosa'</li>\n",
       "\t\t<li>'Brachichiton (Árbol botella, Brachichito)'</li>\n",
       "\t\t<li>'Braquiquito'</li>\n",
       "\t\t<li>'Bunya-bunya (Araucaria de Bidwill)'</li>\n",
       "\t\t<li>'Caesalpinia'</li>\n",
       "\t\t<li>'Callistemon'</li>\n",
       "\t\t<li>'Camelia'</li>\n",
       "\t\t<li>'camellia'</li>\n",
       "\t\t<li>'Canela de venado'</li>\n",
       "\t\t<li>'Canelón'</li>\n",
       "\t\t<li>'Caoba del sur'</li>\n",
       "\t\t<li>'Capparis'</li>\n",
       "\t\t<li>'Caqui'</li>\n",
       "\t\t<li>'Caranday'</li>\n",
       "\t\t<li>'Carnaval(Vainillo)'</li>\n",
       "\t\t<li>'Casia (Rama negra)'</li>\n",
       "\t\t<li>'Cassia'</li>\n",
       "\t\t<li>'Castaño de Indias común'</li>\n",
       "\t\t<li>'Casuarina'</li>\n",
       "\t\t<li>'Catalpa'</li>\n",
       "\t\t<li>'Cedrela'</li>\n",
       "\t\t<li>'Cedro'</li>\n",
       "\t\t<li>'Cedro azulado'</li>\n",
       "\t\t<li>'Cedro blanco de California'</li>\n",
       "\t\t<li>'Cedro de San Juan'</li>\n",
       "\t\t<li>'Cedro del Atlas (Cedro plateado o Cedro atlántico)'</li>\n",
       "\t\t<li>'Cedro del Himalaya'</li>\n",
       "\t\t<li>'Cedro del Himalaya variedad aurea'</li>\n",
       "\t\t<li><span style=white-space:pre-wrap>'Cedro del Líbano  (Cedro de Salomón)'</span></li>\n",
       "\t\t<li>'Cedro misionero (Cedro colorado o Cedro real)'</li>\n",
       "\t\t<li>'Cefalotaxus'</li>\n",
       "\t\t<li>'Ceibo'</li>\n",
       "\t\t<li>'Ceibo del monte'</li>\n",
       "\t\t<li>'Celtis tala'</li>\n",
       "\t\t<li>'Cerella'</li>\n",
       "\t\t<li>'Cerezo'</li>\n",
       "\t\t<li>'Chal Chal'</li>\n",
       "\t\t<li>'Chamaecyparis'</li>\n",
       "\t\t<li>'Cheflera'</li>\n",
       "\t\t<li>'Cica'</li>\n",
       "\t\t<li>'Cina cina'</li>\n",
       "\t\t<li>'Cinnamomun'</li>\n",
       "\t\t<li>'Ciprés'</li>\n",
       "\t\t<li>'Ciprés blanco'</li>\n",
       "\t\t<li>'Ciprés calvo'</li>\n",
       "\t\t<li>'Ciprés fúnebre (Ciprés llorón chino)'</li>\n",
       "\t\t<li>'Ciprés funerario'</li>\n",
       "\t\t<li>'Ciprés horizontal'</li>\n",
       "\t\t<li>'Ciprés leylandi'</li>\n",
       "\t\t<li>'Ciprés piramidal'</li>\n",
       "\t\t<li>'Ciruelo'</li>\n",
       "\t\t<li>'Ciruelo de jardín'</li>\n",
       "\t\t<li>'Citricos'</li>\n",
       "\t\t<li>'Coculus, Cóculo'</li>\n",
       "\t\t<li>'Corona de cristo'</li>\n",
       "\t\t<li>'Coronillo'</li>\n",
       "\t\t<li>'Cotoneaster'</li>\n",
       "\t\t<li>'Crataegus'</li>\n",
       "\t\t<li>'Crespón (Àrbol de Júpiter)'</li>\n",
       "\t\t<li>'Criptomeria (Cedro del Japón)'</li>\n",
       "\t\t<li>'Curupí'</li>\n",
       "\t\t<li>'dracaena'</li>\n",
       "\t\t<li>'Drácena indivisa'</li>\n",
       "\t\t<li>'Drácena marginata'</li>\n",
       "\t\t<li>'Duranta'</li>\n",
       "\t\t<li>'Duranta variedad aurea'</li>\n",
       "\t\t<li>'Durazno'</li>\n",
       "\t\t<li>'El chañar'</li>\n",
       "\t\t<li>'Eleagno'</li>\n",
       "\t\t<li>'Eleagnus'</li>\n",
       "\t\t<li>'Encina'</li>\n",
       "\t\t<li>'Enebro comun'</li>\n",
       "\t\t<li>'Enterolobium'</li>\n",
       "\t\t<li>'Espina del bañado'</li>\n",
       "\t\t<li>'Espinillo (Aromo)'</li>\n",
       "\t\t<li>'Espino de fuego'</li>\n",
       "\t\t<li>'Esterculea'</li>\n",
       "\t\t<li>'Estrella federal'</li>\n",
       "\t\t<li>'Eucalipto'</li>\n",
       "\t\t<li>'Eucalipto (Eucalipto común)'</li>\n",
       "\t\t<li>'Eucalipto cinerea'</li>\n",
       "\t\t<li>'Eucalipto saligna'</li>\n",
       "\t\t<li>'Eucalipto sideroxylon'</li>\n",
       "\t\t<li>'Eucalipto tereticornis'</li>\n",
       "\t\t<li>'Euforbia'</li>\n",
       "\t\t<li>'Euphorbia'</li>\n",
       "\t\t<li>'Falso Alcanforero'</li>\n",
       "\t\t<li>'Falso alerce'</li>\n",
       "\t\t<li>'Falso cafeto'</li>\n",
       "\t\t<li>'Falso ciprés de Lawson'</li>\n",
       "\t\t<li>'Falso Guayabo (Guayaba del Brasil)'</li>\n",
       "\t\t<li>'Fenix'</li>\n",
       "\t\t<li>'Fénix paludosa'</li>\n",
       "\t\t<li>'Ficus'</li>\n",
       "\t\t<li>'Ficus ali'</li>\n",
       "\t\t<li>'Ficus herrumbroso (Ficus oxidado o Higuera herrumbrosa)'</li>\n",
       "\t\t<li>'Ficus variegado'</li>\n",
       "\t\t<li>'Firmiana'</li>\n",
       "\t\t<li>'Fotinia'</li>\n",
       "\t\t<li>'Fresno'</li>\n",
       "\t\t<li>'Fresno (Fresno común)'</li>\n",
       "\t\t<li>'Fresno americano'</li>\n",
       "\t\t<li>'Ginkgo'</li>\n",
       "\t\t<li>'Gomero'</li>\n",
       "\t\t<li>'Granado'</li>\n",
       "\t\t<li>'Grevillea'</li>\n",
       "\t\t<li>'Guabiyú'</li>\n",
       "\t\t<li>'Guarán amarillo'</li>\n",
       "\t\t<li>'Guayabo'</li>\n",
       "\t\t<li>'Guayaibi'</li>\n",
       "\t\t<li>'Hibiscus'</li>\n",
       "\t\t<li>'Higuera'</li>\n",
       "\t\t<li>'Higuera de Bahía'</li>\n",
       "\t\t<li>'Higueron'</li>\n",
       "\t\t<li>'Ibirá pitá'</li>\n",
       "\t\t<li>'Ilex'</li>\n",
       "\t\t<li>'Inga'</li>\n",
       "\t\t<li>'Jacarandá'</li>\n",
       "\t\t<li>'Jazmín'</li>\n",
       "\t\t<li>'Jazmín del Paraguay'</li>\n",
       "\t\t<li>'Jazmín naranja'</li>\n",
       "\t\t<li>'Juglans'</li>\n",
       "\t\t<li>'Juniperus'</li>\n",
       "\t\t<li>'Kauri de corteza lisa'</li>\n",
       "\t\t<li>'Lagunaria (Árbol pica-pica)'</li>\n",
       "\t\t<li>'Lapachillo'</li>\n",
       "\t\t<li>'Lapacho'</li>\n",
       "\t\t<li>'Lapacho amarillo'</li>\n",
       "\t\t<li>'Lapacho negro'</li>\n",
       "\t\t<li>'Lapacho rosado'</li>\n",
       "\t\t<li>'Laurel'</li>\n",
       "\t\t<li>'Laurel blanco'</li>\n",
       "\t\t<li>'Laurel cerezo'</li>\n",
       "\t\t<li>'Laurel de indias'</li>\n",
       "\t\t<li>'Laurel de jardin (Laurel de flor)'</li>\n",
       "\t\t<li>'Laurel del río'</li>\n",
       "\t\t<li>'Laurus'</li>\n",
       "\t\t<li>'Libocedro (Calocedro)'</li>\n",
       "\t\t<li>'Libocedrus'</li>\n",
       "\t\t<li>'Ligustrina'</li>\n",
       "\t\t<li>'Ligustrina de California'</li>\n",
       "\t\t<li>'Ligustro'</li>\n",
       "\t\t<li>'Ligustro disciplinado (Ligustro variegado)'</li>\n",
       "\t\t<li>'Ligustrum'</li>\n",
       "\t\t<li>'Limonero'</li>\n",
       "\t\t<li>'Limpiatubos'</li>\n",
       "\t\t<li>'Liquidambar'</li>\n",
       "\t\t<li>'Livistona de China (Palmera china de abanico)'</li>\n",
       "\t\t<li>'Macrocarpa (Ciprés de Monterrey o Ciprés de Lambert)'</li>\n",
       "\t\t<li>'Magnolia'</li>\n",
       "\t\t<li>'Malus'</li>\n",
       "\t\t<li>'Mandarino'</li>\n",
       "\t\t<li>'Mataojos'</li>\n",
       "\t\t<li>'Membrillero'</li>\n",
       "\t\t<li>'Mimosa (Aromo francés)'</li>\n",
       "\t\t<li>'Mirto'</li>\n",
       "\t\t<li>'Morera blanca'</li>\n",
       "\t\t<li>'Morera de papel (Moral de China)'</li>\n",
       "\t\t<li>'Morera negra'</li>\n",
       "\t\t<li>'Morera péndula'</li>\n",
       "\t\t<li>'Morus'</li>\n",
       "\t\t<li>'Ñangapirí (Grosella o Cereza de Cayena)'</li>\n",
       "\t\t<li>'Naranjillo'</li>\n",
       "\t\t<li>'Naranjo amargo'</li>\n",
       "\t\t<li>'Naranjo de Luisana'</li>\n",
       "\t\t<li>'Naranjo dulce'</li>\n",
       "\t\t<li>'Nerium'</li>\n",
       "\t\t<li>'Níspero japonés'</li>\n",
       "\t\t<li>'No Determinable'</li>\n",
       "\t\t<li>'No Determinado'</li>\n",
       "\t\t<li>'Nogal americano'</li>\n",
       "\t\t<li>'Nogal criollo'</li>\n",
       "\t\t<li>'Nogal europeo (Nogal común)'</li>\n",
       "\t\t<li>'Nolina'</li>\n",
       "\t\t<li>'Olea'</li>\n",
       "\t\t<li>'Olivo'</li>\n",
       "\t\t<li>'Olivo oloroso'</li>\n",
       "\t\t<li>'Olmo'</li>\n",
       "\t\t<li>'Olmo de montaña'</li>\n",
       "\t\t<li>'Olmo europeo'</li>\n",
       "\t\t<li>'Ombú'</li>\n",
       "\t\t<li><span style=white-space:pre-wrap>'Palma Bangalow  (Palma Rey)'</span></li>\n",
       "\t\t<li>'Palma de california'</li>\n",
       "\t\t<li>'Palmera china'</li>\n",
       "\t\t<li>'Palmera del senegal'</li>\n",
       "\t\t<li>'Palmera enana'</li>\n",
       "\t\t<li>'Palmito'</li>\n",
       "\t\t<li>'Palo amarillo'</li>\n",
       "\t\t<li>'Palo borracho'</li>\n",
       "\t\t<li>'Palo borracho blanco'</li>\n",
       "\t\t<li>'Palo borracho rosado'</li>\n",
       "\t\t<li>'Palo coca'</li>\n",
       "\t\t<li>'Palto'</li>\n",
       "\t\t<li>'Paraíso'</li>\n",
       "\t\t<li>'Paraíso umbraculifera'</li>\n",
       "\t\t<li>'Parasol de la china'</li>\n",
       "\t\t<li><span style=white-space:pre-wrap>'Pata de vaca  (Pezuña de vaca)'</span></li>\n",
       "\t\t<li>'Paulonia (Árbol de la emperatriz)'</li>\n",
       "\t\t<li>'Pecán'</li>\n",
       "\t\t<li>'Peltophorum'</li>\n",
       "\t\t<li>'Peral común'</li>\n",
       "\t\t<li>'Phyllanthus'</li>\n",
       "\t\t<li>'Picea'</li>\n",
       "\t\t<li>'Pindó'</li>\n",
       "\t\t<li>'Pino'</li>\n",
       "\t\t<li>'Pino carrasco (Pino de Jerusalén)'</li>\n",
       "\t\t<li>'Pino de las canarias'</li>\n",
       "\t\t<li>'Pino de Siberia'</li>\n",
       "\t\t<li>'Pino del Paraná (Pino de Misiones o Pino de Brasil)'</li>\n",
       "\t\t<li>'Pino piñonero'</li>\n",
       "\t\t<li>'Pino rodeno'</li>\n",
       "\t\t<li>'Plátano'</li>\n",
       "\t\t<li>'Plátano de Oriente (Plátano oriental)'</li>\n",
       "\t\t<li>'Plumerillo rojo'</li>\n",
       "\t\t<li>'Podocarpus'</li>\n",
       "\t\t<li>'Poinciana (Caesalpinia o Barba de chivo)'</li>\n",
       "\t\t<li>'Prosopis'</li>\n",
       "\t\t<li>'Prunus'</li>\n",
       "\t\t<li>'Quebracho colorado'</li>\n",
       "\t\t<li>'Quinoto'</li>\n",
       "\t\t<li>'Rafis (Palmerita china)'</li>\n",
       "\t\t<li>'Robinia'</li>\n",
       "\t\t<li>'Roble'</li>\n",
       "\t\t<li>'Roble americano'</li>\n",
       "\t\t<li>'Roble común'</li>\n",
       "\t\t<li>'Roble palustre'</li>\n",
       "\t\t<li>'Roble sedoso (Grevillea)'</li>\n",
       "\t\t<li>'Robusta'</li>\n",
       "\t\t<li>'Rosa de China (Hibisco)'</li>\n",
       "\t\t<li>'Rosa de mayo'</li>\n",
       "\t\t<li>'Rosa de Siria'</li>\n",
       "\t\t<li>'Ruprechtia'</li>\n",
       "\t\t<li>'Rus'</li>\n",
       "\t\t<li>'Sambucus'</li>\n",
       "\t\t<li>'Sauce'</li>\n",
       "\t\t<li>'Sauce blanco'</li>\n",
       "\t\t<li>'Sauce blanco variedad tristis'</li>\n",
       "\t\t<li>'Sauce criollo'</li>\n",
       "\t\t<li>'Sauce eléctrico'</li>\n",
       "\t\t<li>'Sauce llorón'</li>\n",
       "\t\t<li>'Sauzgatillo'</li>\n",
       "\t\t<li>'Schinus'</li>\n",
       "\t\t<li>'Secuoya'</li>\n",
       "\t\t<li>'Sesbania'</li>\n",
       "\t\t<li>'Siempreverde'</li>\n",
       "\t\t<li>'Sófora japónica'</li>\n",
       "\t\t<li>'Sófora péndula'</li>\n",
       "\t\t<li>'Sota Caballo '</li>\n",
       "\t\t<li>'Tabaco ornamental, palán palán'</li>\n",
       "\t\t<li>'Tabaquillo'</li>\n",
       "\t\t<li>'Taxodium'</li>\n",
       "\t\t<li>'Taxus'</li>\n",
       "\t\t<li>'Tejo chino'</li>\n",
       "\t\t<li>'Tilo'</li>\n",
       "\t\t<li>'Timbó (Oreja de negro)'</li>\n",
       "\t\t<li>'Tipa blanca'</li>\n",
       "\t\t<li>'Trachycarpus'</li>\n",
       "\t\t<li>'Trichilia'</li>\n",
       "\t\t<li>'Tuja'</li>\n",
       "\t\t<li>'Tulipanero'</li>\n",
       "\t\t<li>'Tuya'</li>\n",
       "\t\t<li>'Tuya oriental'</li>\n",
       "\t\t<li>'Viburnum'</li>\n",
       "\t\t<li>'Viburnum dulce'</li>\n",
       "\t\t<li>'Viraró (Viraró crespo)'</li>\n",
       "\t\t<li>'Visco (Viscote, Arca)'</li>\n",
       "\t\t<li>'washingtonia'</li>\n",
       "\t\t<li>'Washingtonia'</li>\n",
       "\t\t<li>'Washingtonia (Palmera washingtonia)'</li>\n",
       "\t\t<li>'Yuca'</li>\n",
       "\t</ol>\n",
       "</details>"
      ],
      "text/latex": [
       "\\begin{enumerate*}\n",
       "\\item El chañar\n",
       "\\item No Determinado\n",
       "\\item Eucalipto\n",
       "\\item No Determinable\n",
       "\\item Palmito\n",
       "\\item Fenix\n",
       "\\item Jacarandá\n",
       "\\item Plátano\n",
       "\\item Coculus, Cóculo\n",
       "\\item Washingtonia\n",
       "\\item Celtis tala\n",
       "\\item Cedro del Himalaya variedad aurea\n",
       "\\item Bunya-bunya (Araucaria de Bidwill)\n",
       "\\item Laurel\n",
       "\\item Ligustro disciplinado (Ligustro variegado)\n",
       "\\item Tipa blanca\n",
       "\\item Palo borracho rosado\n",
       "\\item Magnolia\n",
       "\\item Almez (Almecino o Almecina)\n",
       "\\item Liquidambar\n",
       "\\item Árbol del cielo (Ailanto o Árbol de los dioses)\n",
       "\\item Naranjo amargo\n",
       "\\item Lapacho amarillo\n",
       "\\item Sófora japónica\n",
       "\\item Álamo plateado\n",
       "\\item Pino del Paraná (Pino de Misiones o Pino de Brasil)\n",
       "\\item Ginkgo\n",
       "\\item Morera blanca\n",
       "\\item Encina\n",
       "\\item Pino de las canarias\n",
       "\\item Falso alerce\n",
       "\\item Ombú\n",
       "\\item Coronillo\n",
       "\\item Robusta\n",
       "\\item Washingtonia (Palmera washingtonia)\n",
       "\\item Palma de california\n",
       "\\item Pindó\n",
       "\\item Arrayán (Anacahuita)\n",
       "\\item Tejo chino\n",
       "\\item Quebracho colorado\n",
       "\\item Roble palustre\n",
       "\\item Crespón (Àrbol de Júpiter)\n",
       "\\item Arbol de las orquideas\n",
       "\\item Álamo carolina\n",
       "\\item Eucalipto sideroxylon\n",
       "\\item Ligustro\n",
       "\\item Cefalotaxus\n",
       "\\item Cedro del Himalaya\n",
       "\\item Fotinia\n",
       "\\item Cica\n",
       "\\item Roble sedoso (Grevillea)\n",
       "\\item Eucalipto (Eucalipto común)\n",
       "\\item Ciprés\n",
       "\\end{enumerate*}\n",
       "\n",
       "\\emph{Levels}: \\begin{enumerate*}\n",
       "\\item 'Abedul blanco'\n",
       "\\item 'Abedul común (Abedul de Europa o Abedul verrugoso)'\n",
       "\\item 'Abutilo'\n",
       "\\item 'Acacia'\n",
       "\\item 'Acacia blanca'\n",
       "\\item 'Acacia bola'\n",
       "\\item 'Acacia de Baile (Mimosa de Baile)'\n",
       "\\item 'Acacia de constantinopla'\n",
       "\\item 'Acacia frisia'\n",
       "\\item 'Acacia negra'\n",
       "\\item 'Acacia rosada'\n",
       "\\item 'Acacia verde'\n",
       "\\item 'Adelfa amarilla'\n",
       "\\item 'Aesculus'\n",
       "\\item 'Afrocarpus'\n",
       "\\item 'Agatis blanco'\n",
       "\\item 'Agave vivipara'\n",
       "\\item 'Aguaribay'\n",
       "\\item 'Ahuehuete'\n",
       "\\item 'Álamo'\n",
       "\\item 'Álamo blanco piramidal'\n",
       "\\item 'Álamo carolina'\n",
       "\\item 'Álamo de Italia'\n",
       "\\item 'Álamo negro'\n",
       "\\item 'Álamo negro del Canada'\n",
       "\\item 'Álamo plateado'\n",
       "\\item 'Alcanforero'\n",
       "\\item 'Alcornoque'\n",
       "\\item 'Algarrobo'\n",
       "\\item 'Algarrobo Blanco'\n",
       "\\item 'Aliso de río'\n",
       "\\item 'Almez (Almecino o Almecina)'\n",
       "\\item 'Almez de china'\n",
       "\\item 'Aralia'\n",
       "\\item 'Aralia elegantisima'\n",
       "\\item 'Aralia variegada'\n",
       "\\item 'Araucaria'\n",
       "\\item 'Araucaria (Araucaria de pisos)'\n",
       "\\item 'Araucaria columnar'\n",
       "\\item 'Arbol de las orquideas'\n",
       "\\item 'Árbol de las pasas'\n",
       "\\item 'Árbol del amor (Ciclamor o  árbol de Judas'\n",
       "\\item 'Árbol del cielo (Ailanto o Árbol de los dioses)'\n",
       "\\item 'Árbol del humo'\n",
       "\\item 'Arbol del pomelo'\n",
       "\\item 'Árbol fuccia'\n",
       "\\item 'Arce'\n",
       "\\item 'Arce blanco'\n",
       "\\item 'Arce campestre (Arce común o  Arce menor)'\n",
       "\\item 'Arce japones'\n",
       "\\item 'Arce negundo'\n",
       "\\item 'Arce plateado (Arce blanco)'\n",
       "\\item 'Arce real'\n",
       "\\item 'Arce tridente'\n",
       "\\item 'Areca'\n",
       "\\item 'Arizónica (Ciprés de Arizona)'\n",
       "\\item 'Aromo'\n",
       "\\item 'Arrayán (Anacahuita)'\n",
       "\\item 'Aruera'\n",
       "\\item 'Avellano común'\n",
       "\\item 'Azarero'\n",
       "\\item 'Bananero'\n",
       "\\item 'Betula'\n",
       "\\item 'Boj cepillo'\n",
       "\\item 'Boj común'\n",
       "\\item 'Bola de nieve'\n",
       "\\item 'Boungavillea'\n",
       "\\item 'Brachichito rosa'\n",
       "\\item 'Brachichiton (Árbol botella, Brachichito)'\n",
       "\\item 'Braquiquito'\n",
       "\\item 'Bunya-bunya (Araucaria de Bidwill)'\n",
       "\\item 'Caesalpinia'\n",
       "\\item 'Callistemon'\n",
       "\\item 'Camelia'\n",
       "\\item 'camellia'\n",
       "\\item 'Canela de venado'\n",
       "\\item 'Canelón'\n",
       "\\item 'Caoba del sur'\n",
       "\\item 'Capparis'\n",
       "\\item 'Caqui'\n",
       "\\item 'Caranday'\n",
       "\\item 'Carnaval(Vainillo)'\n",
       "\\item 'Casia (Rama negra)'\n",
       "\\item 'Cassia'\n",
       "\\item 'Castaño de Indias común'\n",
       "\\item 'Casuarina'\n",
       "\\item 'Catalpa'\n",
       "\\item 'Cedrela'\n",
       "\\item 'Cedro'\n",
       "\\item 'Cedro azulado'\n",
       "\\item 'Cedro blanco de California'\n",
       "\\item 'Cedro de San Juan'\n",
       "\\item 'Cedro del Atlas (Cedro plateado o Cedro atlántico)'\n",
       "\\item 'Cedro del Himalaya'\n",
       "\\item 'Cedro del Himalaya variedad aurea'\n",
       "\\item 'Cedro del Líbano  (Cedro de Salomón)'\n",
       "\\item 'Cedro misionero (Cedro colorado o Cedro real)'\n",
       "\\item 'Cefalotaxus'\n",
       "\\item 'Ceibo'\n",
       "\\item 'Ceibo del monte'\n",
       "\\item 'Celtis tala'\n",
       "\\item 'Cerella'\n",
       "\\item 'Cerezo'\n",
       "\\item 'Chal Chal'\n",
       "\\item 'Chamaecyparis'\n",
       "\\item 'Cheflera'\n",
       "\\item 'Cica'\n",
       "\\item 'Cina cina'\n",
       "\\item 'Cinnamomun'\n",
       "\\item 'Ciprés'\n",
       "\\item 'Ciprés blanco'\n",
       "\\item 'Ciprés calvo'\n",
       "\\item 'Ciprés fúnebre (Ciprés llorón chino)'\n",
       "\\item 'Ciprés funerario'\n",
       "\\item 'Ciprés horizontal'\n",
       "\\item 'Ciprés leylandi'\n",
       "\\item 'Ciprés piramidal'\n",
       "\\item 'Ciruelo'\n",
       "\\item 'Ciruelo de jardín'\n",
       "\\item 'Citricos'\n",
       "\\item 'Coculus, Cóculo'\n",
       "\\item 'Corona de cristo'\n",
       "\\item 'Coronillo'\n",
       "\\item 'Cotoneaster'\n",
       "\\item 'Crataegus'\n",
       "\\item 'Crespón (Àrbol de Júpiter)'\n",
       "\\item 'Criptomeria (Cedro del Japón)'\n",
       "\\item 'Curupí'\n",
       "\\item 'dracaena'\n",
       "\\item 'Drácena indivisa'\n",
       "\\item 'Drácena marginata'\n",
       "\\item 'Duranta'\n",
       "\\item 'Duranta variedad aurea'\n",
       "\\item 'Durazno'\n",
       "\\item 'El chañar'\n",
       "\\item 'Eleagno'\n",
       "\\item 'Eleagnus'\n",
       "\\item 'Encina'\n",
       "\\item 'Enebro comun'\n",
       "\\item 'Enterolobium'\n",
       "\\item 'Espina del bañado'\n",
       "\\item 'Espinillo (Aromo)'\n",
       "\\item 'Espino de fuego'\n",
       "\\item 'Esterculea'\n",
       "\\item 'Estrella federal'\n",
       "\\item 'Eucalipto'\n",
       "\\item 'Eucalipto (Eucalipto común)'\n",
       "\\item 'Eucalipto cinerea'\n",
       "\\item 'Eucalipto saligna'\n",
       "\\item 'Eucalipto sideroxylon'\n",
       "\\item 'Eucalipto tereticornis'\n",
       "\\item 'Euforbia'\n",
       "\\item 'Euphorbia'\n",
       "\\item 'Falso Alcanforero'\n",
       "\\item 'Falso alerce'\n",
       "\\item 'Falso cafeto'\n",
       "\\item 'Falso ciprés de Lawson'\n",
       "\\item 'Falso Guayabo (Guayaba del Brasil)'\n",
       "\\item 'Fenix'\n",
       "\\item 'Fénix paludosa'\n",
       "\\item 'Ficus'\n",
       "\\item 'Ficus ali'\n",
       "\\item 'Ficus herrumbroso (Ficus oxidado o Higuera herrumbrosa)'\n",
       "\\item 'Ficus variegado'\n",
       "\\item 'Firmiana'\n",
       "\\item 'Fotinia'\n",
       "\\item 'Fresno'\n",
       "\\item 'Fresno (Fresno común)'\n",
       "\\item 'Fresno americano'\n",
       "\\item 'Ginkgo'\n",
       "\\item 'Gomero'\n",
       "\\item 'Granado'\n",
       "\\item 'Grevillea'\n",
       "\\item 'Guabiyú'\n",
       "\\item 'Guarán amarillo'\n",
       "\\item 'Guayabo'\n",
       "\\item 'Guayaibi'\n",
       "\\item 'Hibiscus'\n",
       "\\item 'Higuera'\n",
       "\\item 'Higuera de Bahía'\n",
       "\\item 'Higueron'\n",
       "\\item 'Ibirá pitá'\n",
       "\\item 'Ilex'\n",
       "\\item 'Inga'\n",
       "\\item 'Jacarandá'\n",
       "\\item 'Jazmín'\n",
       "\\item 'Jazmín del Paraguay'\n",
       "\\item 'Jazmín naranja'\n",
       "\\item 'Juglans'\n",
       "\\item 'Juniperus'\n",
       "\\item 'Kauri de corteza lisa'\n",
       "\\item 'Lagunaria (Árbol pica-pica)'\n",
       "\\item 'Lapachillo'\n",
       "\\item 'Lapacho'\n",
       "\\item 'Lapacho amarillo'\n",
       "\\item 'Lapacho negro'\n",
       "\\item 'Lapacho rosado'\n",
       "\\item 'Laurel'\n",
       "\\item 'Laurel blanco'\n",
       "\\item 'Laurel cerezo'\n",
       "\\item 'Laurel de indias'\n",
       "\\item 'Laurel de jardin (Laurel de flor)'\n",
       "\\item 'Laurel del río'\n",
       "\\item 'Laurus'\n",
       "\\item 'Libocedro (Calocedro)'\n",
       "\\item 'Libocedrus'\n",
       "\\item 'Ligustrina'\n",
       "\\item 'Ligustrina de California'\n",
       "\\item 'Ligustro'\n",
       "\\item 'Ligustro disciplinado (Ligustro variegado)'\n",
       "\\item 'Ligustrum'\n",
       "\\item 'Limonero'\n",
       "\\item 'Limpiatubos'\n",
       "\\item 'Liquidambar'\n",
       "\\item 'Livistona de China (Palmera china de abanico)'\n",
       "\\item 'Macrocarpa (Ciprés de Monterrey o Ciprés de Lambert)'\n",
       "\\item 'Magnolia'\n",
       "\\item 'Malus'\n",
       "\\item 'Mandarino'\n",
       "\\item 'Mataojos'\n",
       "\\item 'Membrillero'\n",
       "\\item 'Mimosa (Aromo francés)'\n",
       "\\item 'Mirto'\n",
       "\\item 'Morera blanca'\n",
       "\\item 'Morera de papel (Moral de China)'\n",
       "\\item 'Morera negra'\n",
       "\\item 'Morera péndula'\n",
       "\\item 'Morus'\n",
       "\\item 'Ñangapirí (Grosella o Cereza de Cayena)'\n",
       "\\item 'Naranjillo'\n",
       "\\item 'Naranjo amargo'\n",
       "\\item 'Naranjo de Luisana'\n",
       "\\item 'Naranjo dulce'\n",
       "\\item 'Nerium'\n",
       "\\item 'Níspero japonés'\n",
       "\\item 'No Determinable'\n",
       "\\item 'No Determinado'\n",
       "\\item 'Nogal americano'\n",
       "\\item 'Nogal criollo'\n",
       "\\item 'Nogal europeo (Nogal común)'\n",
       "\\item 'Nolina'\n",
       "\\item 'Olea'\n",
       "\\item 'Olivo'\n",
       "\\item 'Olivo oloroso'\n",
       "\\item 'Olmo'\n",
       "\\item 'Olmo de montaña'\n",
       "\\item 'Olmo europeo'\n",
       "\\item 'Ombú'\n",
       "\\item 'Palma Bangalow  (Palma Rey)'\n",
       "\\item 'Palma de california'\n",
       "\\item 'Palmera china'\n",
       "\\item 'Palmera del senegal'\n",
       "\\item 'Palmera enana'\n",
       "\\item 'Palmito'\n",
       "\\item 'Palo amarillo'\n",
       "\\item 'Palo borracho'\n",
       "\\item 'Palo borracho blanco'\n",
       "\\item 'Palo borracho rosado'\n",
       "\\item 'Palo coca'\n",
       "\\item 'Palto'\n",
       "\\item 'Paraíso'\n",
       "\\item 'Paraíso umbraculifera'\n",
       "\\item 'Parasol de la china'\n",
       "\\item 'Pata de vaca  (Pezuña de vaca)'\n",
       "\\item 'Paulonia (Árbol de la emperatriz)'\n",
       "\\item 'Pecán'\n",
       "\\item 'Peltophorum'\n",
       "\\item 'Peral común'\n",
       "\\item 'Phyllanthus'\n",
       "\\item 'Picea'\n",
       "\\item 'Pindó'\n",
       "\\item 'Pino'\n",
       "\\item 'Pino carrasco (Pino de Jerusalén)'\n",
       "\\item 'Pino de las canarias'\n",
       "\\item 'Pino de Siberia'\n",
       "\\item 'Pino del Paraná (Pino de Misiones o Pino de Brasil)'\n",
       "\\item 'Pino piñonero'\n",
       "\\item 'Pino rodeno'\n",
       "\\item 'Plátano'\n",
       "\\item 'Plátano de Oriente (Plátano oriental)'\n",
       "\\item 'Plumerillo rojo'\n",
       "\\item 'Podocarpus'\n",
       "\\item 'Poinciana (Caesalpinia o Barba de chivo)'\n",
       "\\item 'Prosopis'\n",
       "\\item 'Prunus'\n",
       "\\item 'Quebracho colorado'\n",
       "\\item 'Quinoto'\n",
       "\\item 'Rafis (Palmerita china)'\n",
       "\\item 'Robinia'\n",
       "\\item 'Roble'\n",
       "\\item 'Roble americano'\n",
       "\\item 'Roble común'\n",
       "\\item 'Roble palustre'\n",
       "\\item 'Roble sedoso (Grevillea)'\n",
       "\\item 'Robusta'\n",
       "\\item 'Rosa de China (Hibisco)'\n",
       "\\item 'Rosa de mayo'\n",
       "\\item 'Rosa de Siria'\n",
       "\\item 'Ruprechtia'\n",
       "\\item 'Rus'\n",
       "\\item 'Sambucus'\n",
       "\\item 'Sauce'\n",
       "\\item 'Sauce blanco'\n",
       "\\item 'Sauce blanco variedad tristis'\n",
       "\\item 'Sauce criollo'\n",
       "\\item 'Sauce eléctrico'\n",
       "\\item 'Sauce llorón'\n",
       "\\item 'Sauzgatillo'\n",
       "\\item 'Schinus'\n",
       "\\item 'Secuoya'\n",
       "\\item 'Sesbania'\n",
       "\\item 'Siempreverde'\n",
       "\\item 'Sófora japónica'\n",
       "\\item 'Sófora péndula'\n",
       "\\item 'Sota Caballo '\n",
       "\\item 'Tabaco ornamental, palán palán'\n",
       "\\item 'Tabaquillo'\n",
       "\\item 'Taxodium'\n",
       "\\item 'Taxus'\n",
       "\\item 'Tejo chino'\n",
       "\\item 'Tilo'\n",
       "\\item 'Timbó (Oreja de negro)'\n",
       "\\item 'Tipa blanca'\n",
       "\\item 'Trachycarpus'\n",
       "\\item 'Trichilia'\n",
       "\\item 'Tuja'\n",
       "\\item 'Tulipanero'\n",
       "\\item 'Tuya'\n",
       "\\item 'Tuya oriental'\n",
       "\\item 'Viburnum'\n",
       "\\item 'Viburnum dulce'\n",
       "\\item 'Viraró (Viraró crespo)'\n",
       "\\item 'Visco (Viscote, Arca)'\n",
       "\\item 'washingtonia'\n",
       "\\item 'Washingtonia'\n",
       "\\item 'Washingtonia (Palmera washingtonia)'\n",
       "\\item 'Yuca'\n",
       "\\end{enumerate*}\n"
      ],
      "text/markdown": [
       "1. El chañar\n",
       "2. No Determinado\n",
       "3. Eucalipto\n",
       "4. No Determinable\n",
       "5. Palmito\n",
       "6. Fenix\n",
       "7. Jacarandá\n",
       "8. Plátano\n",
       "9. Coculus, Cóculo\n",
       "10. Washingtonia\n",
       "11. Celtis tala\n",
       "12. Cedro del Himalaya variedad aurea\n",
       "13. Bunya-bunya (Araucaria de Bidwill)\n",
       "14. Laurel\n",
       "15. Ligustro disciplinado (Ligustro variegado)\n",
       "16. Tipa blanca\n",
       "17. Palo borracho rosado\n",
       "18. Magnolia\n",
       "19. Almez (Almecino o Almecina)\n",
       "20. Liquidambar\n",
       "21. Árbol del cielo (Ailanto o Árbol de los dioses)\n",
       "22. Naranjo amargo\n",
       "23. Lapacho amarillo\n",
       "24. Sófora japónica\n",
       "25. Álamo plateado\n",
       "26. Pino del Paraná (Pino de Misiones o Pino de Brasil)\n",
       "27. Ginkgo\n",
       "28. Morera blanca\n",
       "29. Encina\n",
       "30. Pino de las canarias\n",
       "31. Falso alerce\n",
       "32. Ombú\n",
       "33. Coronillo\n",
       "34. Robusta\n",
       "35. Washingtonia (Palmera washingtonia)\n",
       "36. Palma de california\n",
       "37. Pindó\n",
       "38. Arrayán (Anacahuita)\n",
       "39. Tejo chino\n",
       "40. Quebracho colorado\n",
       "41. Roble palustre\n",
       "42. Crespón (Àrbol de Júpiter)\n",
       "43. Arbol de las orquideas\n",
       "44. Álamo carolina\n",
       "45. Eucalipto sideroxylon\n",
       "46. Ligustro\n",
       "47. Cefalotaxus\n",
       "48. Cedro del Himalaya\n",
       "49. Fotinia\n",
       "50. Cica\n",
       "51. Roble sedoso (Grevillea)\n",
       "52. Eucalipto (Eucalipto común)\n",
       "53. Ciprés\n",
       "\n",
       "\n",
       "\n",
       "**Levels**: 1. 'Abedul blanco'\n",
       "2. 'Abedul común (Abedul de Europa o Abedul verrugoso)'\n",
       "3. 'Abutilo'\n",
       "4. 'Acacia'\n",
       "5. 'Acacia blanca'\n",
       "6. 'Acacia bola'\n",
       "7. 'Acacia de Baile (Mimosa de Baile)'\n",
       "8. 'Acacia de constantinopla'\n",
       "9. 'Acacia frisia'\n",
       "10. 'Acacia negra'\n",
       "11. 'Acacia rosada'\n",
       "12. 'Acacia verde'\n",
       "13. 'Adelfa amarilla'\n",
       "14. 'Aesculus'\n",
       "15. 'Afrocarpus'\n",
       "16. 'Agatis blanco'\n",
       "17. 'Agave vivipara'\n",
       "18. 'Aguaribay'\n",
       "19. 'Ahuehuete'\n",
       "20. 'Álamo'\n",
       "21. 'Álamo blanco piramidal'\n",
       "22. 'Álamo carolina'\n",
       "23. 'Álamo de Italia'\n",
       "24. 'Álamo negro'\n",
       "25. 'Álamo negro del Canada'\n",
       "26. 'Álamo plateado'\n",
       "27. 'Alcanforero'\n",
       "28. 'Alcornoque'\n",
       "29. 'Algarrobo'\n",
       "30. 'Algarrobo Blanco'\n",
       "31. 'Aliso de río'\n",
       "32. 'Almez (Almecino o Almecina)'\n",
       "33. 'Almez de china'\n",
       "34. 'Aralia'\n",
       "35. 'Aralia elegantisima'\n",
       "36. 'Aralia variegada'\n",
       "37. 'Araucaria'\n",
       "38. 'Araucaria (Araucaria de pisos)'\n",
       "39. 'Araucaria columnar'\n",
       "40. 'Arbol de las orquideas'\n",
       "41. 'Árbol de las pasas'\n",
       "42. <span style=white-space:pre-wrap>'Árbol del amor (Ciclamor o  árbol de Judas'</span>\n",
       "43. 'Árbol del cielo (Ailanto o Árbol de los dioses)'\n",
       "44. 'Árbol del humo'\n",
       "45. 'Arbol del pomelo'\n",
       "46. 'Árbol fuccia'\n",
       "47. 'Arce'\n",
       "48. 'Arce blanco'\n",
       "49. <span style=white-space:pre-wrap>'Arce campestre (Arce común o  Arce menor)'</span>\n",
       "50. 'Arce japones'\n",
       "51. 'Arce negundo'\n",
       "52. 'Arce plateado (Arce blanco)'\n",
       "53. 'Arce real'\n",
       "54. 'Arce tridente'\n",
       "55. 'Areca'\n",
       "56. 'Arizónica (Ciprés de Arizona)'\n",
       "57. 'Aromo'\n",
       "58. 'Arrayán (Anacahuita)'\n",
       "59. 'Aruera'\n",
       "60. 'Avellano común'\n",
       "61. 'Azarero'\n",
       "62. 'Bananero'\n",
       "63. 'Betula'\n",
       "64. 'Boj cepillo'\n",
       "65. 'Boj común'\n",
       "66. 'Bola de nieve'\n",
       "67. 'Boungavillea'\n",
       "68. 'Brachichito rosa'\n",
       "69. 'Brachichiton (Árbol botella, Brachichito)'\n",
       "70. 'Braquiquito'\n",
       "71. 'Bunya-bunya (Araucaria de Bidwill)'\n",
       "72. 'Caesalpinia'\n",
       "73. 'Callistemon'\n",
       "74. 'Camelia'\n",
       "75. 'camellia'\n",
       "76. 'Canela de venado'\n",
       "77. 'Canelón'\n",
       "78. 'Caoba del sur'\n",
       "79. 'Capparis'\n",
       "80. 'Caqui'\n",
       "81. 'Caranday'\n",
       "82. 'Carnaval(Vainillo)'\n",
       "83. 'Casia (Rama negra)'\n",
       "84. 'Cassia'\n",
       "85. 'Castaño de Indias común'\n",
       "86. 'Casuarina'\n",
       "87. 'Catalpa'\n",
       "88. 'Cedrela'\n",
       "89. 'Cedro'\n",
       "90. 'Cedro azulado'\n",
       "91. 'Cedro blanco de California'\n",
       "92. 'Cedro de San Juan'\n",
       "93. 'Cedro del Atlas (Cedro plateado o Cedro atlántico)'\n",
       "94. 'Cedro del Himalaya'\n",
       "95. 'Cedro del Himalaya variedad aurea'\n",
       "96. <span style=white-space:pre-wrap>'Cedro del Líbano  (Cedro de Salomón)'</span>\n",
       "97. 'Cedro misionero (Cedro colorado o Cedro real)'\n",
       "98. 'Cefalotaxus'\n",
       "99. 'Ceibo'\n",
       "100. 'Ceibo del monte'\n",
       "101. 'Celtis tala'\n",
       "102. 'Cerella'\n",
       "103. 'Cerezo'\n",
       "104. 'Chal Chal'\n",
       "105. 'Chamaecyparis'\n",
       "106. 'Cheflera'\n",
       "107. 'Cica'\n",
       "108. 'Cina cina'\n",
       "109. 'Cinnamomun'\n",
       "110. 'Ciprés'\n",
       "111. 'Ciprés blanco'\n",
       "112. 'Ciprés calvo'\n",
       "113. 'Ciprés fúnebre (Ciprés llorón chino)'\n",
       "114. 'Ciprés funerario'\n",
       "115. 'Ciprés horizontal'\n",
       "116. 'Ciprés leylandi'\n",
       "117. 'Ciprés piramidal'\n",
       "118. 'Ciruelo'\n",
       "119. 'Ciruelo de jardín'\n",
       "120. 'Citricos'\n",
       "121. 'Coculus, Cóculo'\n",
       "122. 'Corona de cristo'\n",
       "123. 'Coronillo'\n",
       "124. 'Cotoneaster'\n",
       "125. 'Crataegus'\n",
       "126. 'Crespón (Àrbol de Júpiter)'\n",
       "127. 'Criptomeria (Cedro del Japón)'\n",
       "128. 'Curupí'\n",
       "129. 'dracaena'\n",
       "130. 'Drácena indivisa'\n",
       "131. 'Drácena marginata'\n",
       "132. 'Duranta'\n",
       "133. 'Duranta variedad aurea'\n",
       "134. 'Durazno'\n",
       "135. 'El chañar'\n",
       "136. 'Eleagno'\n",
       "137. 'Eleagnus'\n",
       "138. 'Encina'\n",
       "139. 'Enebro comun'\n",
       "140. 'Enterolobium'\n",
       "141. 'Espina del bañado'\n",
       "142. 'Espinillo (Aromo)'\n",
       "143. 'Espino de fuego'\n",
       "144. 'Esterculea'\n",
       "145. 'Estrella federal'\n",
       "146. 'Eucalipto'\n",
       "147. 'Eucalipto (Eucalipto común)'\n",
       "148. 'Eucalipto cinerea'\n",
       "149. 'Eucalipto saligna'\n",
       "150. 'Eucalipto sideroxylon'\n",
       "151. 'Eucalipto tereticornis'\n",
       "152. 'Euforbia'\n",
       "153. 'Euphorbia'\n",
       "154. 'Falso Alcanforero'\n",
       "155. 'Falso alerce'\n",
       "156. 'Falso cafeto'\n",
       "157. 'Falso ciprés de Lawson'\n",
       "158. 'Falso Guayabo (Guayaba del Brasil)'\n",
       "159. 'Fenix'\n",
       "160. 'Fénix paludosa'\n",
       "161. 'Ficus'\n",
       "162. 'Ficus ali'\n",
       "163. 'Ficus herrumbroso (Ficus oxidado o Higuera herrumbrosa)'\n",
       "164. 'Ficus variegado'\n",
       "165. 'Firmiana'\n",
       "166. 'Fotinia'\n",
       "167. 'Fresno'\n",
       "168. 'Fresno (Fresno común)'\n",
       "169. 'Fresno americano'\n",
       "170. 'Ginkgo'\n",
       "171. 'Gomero'\n",
       "172. 'Granado'\n",
       "173. 'Grevillea'\n",
       "174. 'Guabiyú'\n",
       "175. 'Guarán amarillo'\n",
       "176. 'Guayabo'\n",
       "177. 'Guayaibi'\n",
       "178. 'Hibiscus'\n",
       "179. 'Higuera'\n",
       "180. 'Higuera de Bahía'\n",
       "181. 'Higueron'\n",
       "182. 'Ibirá pitá'\n",
       "183. 'Ilex'\n",
       "184. 'Inga'\n",
       "185. 'Jacarandá'\n",
       "186. 'Jazmín'\n",
       "187. 'Jazmín del Paraguay'\n",
       "188. 'Jazmín naranja'\n",
       "189. 'Juglans'\n",
       "190. 'Juniperus'\n",
       "191. 'Kauri de corteza lisa'\n",
       "192. 'Lagunaria (Árbol pica-pica)'\n",
       "193. 'Lapachillo'\n",
       "194. 'Lapacho'\n",
       "195. 'Lapacho amarillo'\n",
       "196. 'Lapacho negro'\n",
       "197. 'Lapacho rosado'\n",
       "198. 'Laurel'\n",
       "199. 'Laurel blanco'\n",
       "200. 'Laurel cerezo'\n",
       "201. 'Laurel de indias'\n",
       "202. 'Laurel de jardin (Laurel de flor)'\n",
       "203. 'Laurel del río'\n",
       "204. 'Laurus'\n",
       "205. 'Libocedro (Calocedro)'\n",
       "206. 'Libocedrus'\n",
       "207. 'Ligustrina'\n",
       "208. 'Ligustrina de California'\n",
       "209. 'Ligustro'\n",
       "210. 'Ligustro disciplinado (Ligustro variegado)'\n",
       "211. 'Ligustrum'\n",
       "212. 'Limonero'\n",
       "213. 'Limpiatubos'\n",
       "214. 'Liquidambar'\n",
       "215. 'Livistona de China (Palmera china de abanico)'\n",
       "216. 'Macrocarpa (Ciprés de Monterrey o Ciprés de Lambert)'\n",
       "217. 'Magnolia'\n",
       "218. 'Malus'\n",
       "219. 'Mandarino'\n",
       "220. 'Mataojos'\n",
       "221. 'Membrillero'\n",
       "222. 'Mimosa (Aromo francés)'\n",
       "223. 'Mirto'\n",
       "224. 'Morera blanca'\n",
       "225. 'Morera de papel (Moral de China)'\n",
       "226. 'Morera negra'\n",
       "227. 'Morera péndula'\n",
       "228. 'Morus'\n",
       "229. 'Ñangapirí (Grosella o Cereza de Cayena)'\n",
       "230. 'Naranjillo'\n",
       "231. 'Naranjo amargo'\n",
       "232. 'Naranjo de Luisana'\n",
       "233. 'Naranjo dulce'\n",
       "234. 'Nerium'\n",
       "235. 'Níspero japonés'\n",
       "236. 'No Determinable'\n",
       "237. 'No Determinado'\n",
       "238. 'Nogal americano'\n",
       "239. 'Nogal criollo'\n",
       "240. 'Nogal europeo (Nogal común)'\n",
       "241. 'Nolina'\n",
       "242. 'Olea'\n",
       "243. 'Olivo'\n",
       "244. 'Olivo oloroso'\n",
       "245. 'Olmo'\n",
       "246. 'Olmo de montaña'\n",
       "247. 'Olmo europeo'\n",
       "248. 'Ombú'\n",
       "249. <span style=white-space:pre-wrap>'Palma Bangalow  (Palma Rey)'</span>\n",
       "250. 'Palma de california'\n",
       "251. 'Palmera china'\n",
       "252. 'Palmera del senegal'\n",
       "253. 'Palmera enana'\n",
       "254. 'Palmito'\n",
       "255. 'Palo amarillo'\n",
       "256. 'Palo borracho'\n",
       "257. 'Palo borracho blanco'\n",
       "258. 'Palo borracho rosado'\n",
       "259. 'Palo coca'\n",
       "260. 'Palto'\n",
       "261. 'Paraíso'\n",
       "262. 'Paraíso umbraculifera'\n",
       "263. 'Parasol de la china'\n",
       "264. <span style=white-space:pre-wrap>'Pata de vaca  (Pezuña de vaca)'</span>\n",
       "265. 'Paulonia (Árbol de la emperatriz)'\n",
       "266. 'Pecán'\n",
       "267. 'Peltophorum'\n",
       "268. 'Peral común'\n",
       "269. 'Phyllanthus'\n",
       "270. 'Picea'\n",
       "271. 'Pindó'\n",
       "272. 'Pino'\n",
       "273. 'Pino carrasco (Pino de Jerusalén)'\n",
       "274. 'Pino de las canarias'\n",
       "275. 'Pino de Siberia'\n",
       "276. 'Pino del Paraná (Pino de Misiones o Pino de Brasil)'\n",
       "277. 'Pino piñonero'\n",
       "278. 'Pino rodeno'\n",
       "279. 'Plátano'\n",
       "280. 'Plátano de Oriente (Plátano oriental)'\n",
       "281. 'Plumerillo rojo'\n",
       "282. 'Podocarpus'\n",
       "283. 'Poinciana (Caesalpinia o Barba de chivo)'\n",
       "284. 'Prosopis'\n",
       "285. 'Prunus'\n",
       "286. 'Quebracho colorado'\n",
       "287. 'Quinoto'\n",
       "288. 'Rafis (Palmerita china)'\n",
       "289. 'Robinia'\n",
       "290. 'Roble'\n",
       "291. 'Roble americano'\n",
       "292. 'Roble común'\n",
       "293. 'Roble palustre'\n",
       "294. 'Roble sedoso (Grevillea)'\n",
       "295. 'Robusta'\n",
       "296. 'Rosa de China (Hibisco)'\n",
       "297. 'Rosa de mayo'\n",
       "298. 'Rosa de Siria'\n",
       "299. 'Ruprechtia'\n",
       "300. 'Rus'\n",
       "301. 'Sambucus'\n",
       "302. 'Sauce'\n",
       "303. 'Sauce blanco'\n",
       "304. 'Sauce blanco variedad tristis'\n",
       "305. 'Sauce criollo'\n",
       "306. 'Sauce eléctrico'\n",
       "307. 'Sauce llorón'\n",
       "308. 'Sauzgatillo'\n",
       "309. 'Schinus'\n",
       "310. 'Secuoya'\n",
       "311. 'Sesbania'\n",
       "312. 'Siempreverde'\n",
       "313. 'Sófora japónica'\n",
       "314. 'Sófora péndula'\n",
       "315. 'Sota Caballo '\n",
       "316. 'Tabaco ornamental, palán palán'\n",
       "317. 'Tabaquillo'\n",
       "318. 'Taxodium'\n",
       "319. 'Taxus'\n",
       "320. 'Tejo chino'\n",
       "321. 'Tilo'\n",
       "322. 'Timbó (Oreja de negro)'\n",
       "323. 'Tipa blanca'\n",
       "324. 'Trachycarpus'\n",
       "325. 'Trichilia'\n",
       "326. 'Tuja'\n",
       "327. 'Tulipanero'\n",
       "328. 'Tuya'\n",
       "329. 'Tuya oriental'\n",
       "330. 'Viburnum'\n",
       "331. 'Viburnum dulce'\n",
       "332. 'Viraró (Viraró crespo)'\n",
       "333. 'Visco (Viscote, Arca)'\n",
       "334. 'washingtonia'\n",
       "335. 'Washingtonia'\n",
       "336. 'Washingtonia (Palmera washingtonia)'\n",
       "337. 'Yuca'\n",
       "\n",
       "\n"
      ],
      "text/plain": [
       " [1] El chañar                                          \n",
       " [2] No Determinado                                     \n",
       " [3] Eucalipto                                          \n",
       " [4] No Determinable                                    \n",
       " [5] Palmito                                            \n",
       " [6] Fenix                                              \n",
       " [7] Jacarandá                                          \n",
       " [8] Plátano                                            \n",
       " [9] Coculus, Cóculo                                    \n",
       "[10] Washingtonia                                       \n",
       "[11] Celtis tala                                        \n",
       "[12] Cedro del Himalaya variedad aurea                  \n",
       "[13] Bunya-bunya (Araucaria de Bidwill)                 \n",
       "[14] Laurel                                             \n",
       "[15] Ligustro disciplinado (Ligustro variegado)         \n",
       "[16] Tipa blanca                                        \n",
       "[17] Palo borracho rosado                               \n",
       "[18] Magnolia                                           \n",
       "[19] Almez (Almecino o Almecina)                        \n",
       "[20] Liquidambar                                        \n",
       "[21] Árbol del cielo (Ailanto o Árbol de los dioses)    \n",
       "[22] Naranjo amargo                                     \n",
       "[23] Lapacho amarillo                                   \n",
       "[24] Sófora japónica                                    \n",
       "[25] Álamo plateado                                     \n",
       "[26] Pino del Paraná (Pino de Misiones o Pino de Brasil)\n",
       "[27] Ginkgo                                             \n",
       "[28] Morera blanca                                      \n",
       "[29] Encina                                             \n",
       "[30] Pino de las canarias                               \n",
       "[31] Falso alerce                                       \n",
       "[32] Ombú                                               \n",
       "[33] Coronillo                                          \n",
       "[34] Robusta                                            \n",
       "[35] Washingtonia (Palmera washingtonia)                \n",
       "[36] Palma de california                                \n",
       "[37] Pindó                                              \n",
       "[38] Arrayán (Anacahuita)                               \n",
       "[39] Tejo chino                                         \n",
       "[40] Quebracho colorado                                 \n",
       "[41] Roble palustre                                     \n",
       "[42] Crespón (Àrbol de Júpiter)                         \n",
       "[43] Arbol de las orquideas                             \n",
       "[44] Álamo carolina                                     \n",
       "[45] Eucalipto sideroxylon                              \n",
       "[46] Ligustro                                           \n",
       "[47] Cefalotaxus                                        \n",
       "[48] Cedro del Himalaya                                 \n",
       "[49] Fotinia                                            \n",
       "[50] Cica                                               \n",
       "[51] Roble sedoso (Grevillea)                           \n",
       "[52] Eucalipto (Eucalipto común)                        \n",
       "[53] Ciprés                                             \n",
       "337 Levels: Abedul blanco ... Yuca"
      ]
     },
     "metadata": {},
     "output_type": "display_data"
    }
   ],
   "source": [
    "unique(arboles_cercanos$nombre_com)"
   ]
  },
  {
   "cell_type": "markdown",
   "metadata": {
    "ExecuteTime": {
     "end_time": "2020-04-14T00:48:50.276081Z",
     "start_time": "2020-04-14T00:48:50.245Z"
    }
   },
   "source": [
    ">Listado de **árboles en plaza Holanda** (ignorando arboles no identificados):\n",
    ">\n",
    ">> El chañar, Eucalipto, Palmito, Fenix, Jacarandá, Plátano, Coculus, Cóculo, Washingtonia, Celtis tala, Cedro del Himalaya variedad aurea, Bunya-bunya (Araucaria de Bidwill), Laurel, Ligustro disciplinado (Ligustro variegado), Tipa blanca, Palo borracho rosado, Magnolia Almez (Almecino o Almecina), Liquidambar, Árbol del cielo (Ailanto o Árbol de los dioses) ,Naranjo amargo, Lapacho amarillo, Sófora japónica, Álamo plateado ,Pino del Paraná (Pino de Misiones o Pino de Brasil) ,Ginkgo, Morera blanca, Encina, Pino de las canarias, Falso alerce, Ombú Coronillo, Robusta Washingtonia (Palmera washingtonia), Palma de california, Pindó Arrayán (Anacahuita), Tejo chino, Quebracho colorado, Roble palustre, Crespón (Àrbol de Júpiter), Arbol de las orquideas, Álamo carolina, Eucalipto sideroxylon, Ligustro Cefalotaxus, Cedro del Himalaya, Fotinia Cica, Roble sedoso (Grevillea), Eucalipto (Eucalipto común) y Ciprés"
   ]
  },
  {
   "cell_type": "markdown",
   "metadata": {},
   "source": [
    "### Ejercicio 8\n",
    "\n",
    "Los datos `TITANIC3` del paquete `PASWR2` contienen información sobre los pasajeros del Titanic, incluyendo clase, sexo y si sobrevivieron o no, entre otras caracterı́sticas."
   ]
  },
  {
   "cell_type": "markdown",
   "metadata": {},
   "source": [
    "### Ejercicio 8.a\n",
    "\n",
    "> Determine la **proporción de sobrevivientes por clase**.\n",
    "\n",
    "### Solución 8.a\n",
    "\n"
   ]
  },
  {
   "cell_type": "code",
   "execution_count": 25,
   "metadata": {
    "ExecuteTime": {
     "end_time": "2020-04-15T01:13:39.730599Z",
     "start_time": "2020-04-15T01:13:19.853Z"
    }
   },
   "outputs": [
    {
     "name": "stderr",
     "output_type": "stream",
     "text": [
      "Updating HTML index of packages in '.Library'\n",
      "Making 'packages.html' ... done\n"
     ]
    }
   ],
   "source": [
    "# Se necesita para ejercicios 8 y 9\n",
    "install.packages(\"PASWR2\")"
   ]
  },
  {
   "cell_type": "code",
   "execution_count": 26,
   "metadata": {
    "ExecuteTime": {
     "end_time": "2020-04-15T01:13:40.212181Z",
     "start_time": "2020-04-15T01:13:19.856Z"
    }
   },
   "outputs": [
    {
     "name": "stderr",
     "output_type": "stream",
     "text": [
      "Loading required package: PASWR2\n",
      "Loading required package: lattice\n",
      "Loading required package: ggplot2\n",
      "Registered S3 methods overwritten by 'ggplot2':\n",
      "  method         from \n",
      "  [.quosures     rlang\n",
      "  c.quosures     rlang\n",
      "  print.quosures rlang\n"
     ]
    }
   ],
   "source": [
    "# Importo librería PASWR2\n",
    "require(PASWR2)"
   ]
  },
  {
   "cell_type": "code",
   "execution_count": 27,
   "metadata": {
    "ExecuteTime": {
     "end_time": "2020-04-15T01:13:40.236368Z",
     "start_time": "2020-04-15T01:13:19.862Z"
    }
   },
   "outputs": [
    {
     "data": {
      "text/html": [
       "<table>\n",
       "<thead><tr><th scope=col>pclass</th><th scope=col>survived</th><th scope=col>name</th><th scope=col>sex</th><th scope=col>age</th><th scope=col>sibsp</th><th scope=col>parch</th><th scope=col>ticket</th><th scope=col>fare</th><th scope=col>cabin</th><th scope=col>embarked</th><th scope=col>boat</th><th scope=col>body</th><th scope=col>home.dest</th></tr></thead>\n",
       "<tbody>\n",
       "\t<tr><td>1st                            </td><td>1                              </td><td>Allen, Miss. Elisabeth Walton  </td><td>female                         </td><td>29.0000                        </td><td>0                              </td><td>0                              </td><td>24160                          </td><td>211.3375                       </td><td>B5                             </td><td>Southampton                    </td><td>2                              </td><td> NA                            </td><td>St Louis, MO                   </td></tr>\n",
       "\t<tr><td>1st                            </td><td>1                              </td><td>Allison, Master. Hudson Trevor </td><td>male                           </td><td> 0.9167                        </td><td>1                              </td><td>2                              </td><td>113781                         </td><td>151.5500                       </td><td>C22 C26                        </td><td>Southampton                    </td><td>11                             </td><td> NA                            </td><td>Montreal, PQ / Chesterville, ON</td></tr>\n",
       "\t<tr><td>1st                            </td><td>0                              </td><td>Allison, Miss. Helen Loraine   </td><td>female                         </td><td> 2.0000                        </td><td>1                              </td><td>2                              </td><td>113781                         </td><td>151.5500                       </td><td>C22 C26                        </td><td>Southampton                    </td><td>                               </td><td> NA                            </td><td>Montreal, PQ / Chesterville, ON</td></tr>\n",
       "\t<tr><td>1st                            </td><td>0                              </td><td>Allison, Mr. Hudson Joshua Crei</td><td>male                           </td><td>30.0000                        </td><td>1                              </td><td>2                              </td><td>113781                         </td><td>151.5500                       </td><td>C22 C26                        </td><td>Southampton                    </td><td>                               </td><td>135                            </td><td>Montreal, PQ / Chesterville, ON</td></tr>\n",
       "\t<tr><td>1st                            </td><td>0                              </td><td>Allison, Mrs. Hudson J C (Bessi</td><td>female                         </td><td>25.0000                        </td><td>1                              </td><td>2                              </td><td>113781                         </td><td>151.5500                       </td><td>C22 C26                        </td><td>Southampton                    </td><td>                               </td><td> NA                            </td><td>Montreal, PQ / Chesterville, ON</td></tr>\n",
       "\t<tr><td>1st                            </td><td>1                              </td><td>Anderson, Mr. Harry            </td><td>male                           </td><td>48.0000                        </td><td>0                              </td><td>0                              </td><td>19952                          </td><td> 26.5500                       </td><td>E12                            </td><td>Southampton                    </td><td>3                              </td><td> NA                            </td><td>New York, NY                   </td></tr>\n",
       "</tbody>\n",
       "</table>\n"
      ],
      "text/latex": [
       "\\begin{tabular}{r|llllllllllllll}\n",
       " pclass & survived & name & sex & age & sibsp & parch & ticket & fare & cabin & embarked & boat & body & home.dest\\\\\n",
       "\\hline\n",
       "\t 1st                             & 1                               & Allen, Miss. Elisabeth Walton   & female                          & 29.0000                         & 0                               & 0                               & 24160                           & 211.3375                        & B5                              & Southampton                     & 2                               &  NA                             & St Louis, MO                   \\\\\n",
       "\t 1st                             & 1                               & Allison, Master. Hudson Trevor  & male                            &  0.9167                         & 1                               & 2                               & 113781                          & 151.5500                        & C22 C26                         & Southampton                     & 11                              &  NA                             & Montreal, PQ / Chesterville, ON\\\\\n",
       "\t 1st                             & 0                               & Allison, Miss. Helen Loraine    & female                          &  2.0000                         & 1                               & 2                               & 113781                          & 151.5500                        & C22 C26                         & Southampton                     &                                 &  NA                             & Montreal, PQ / Chesterville, ON\\\\\n",
       "\t 1st                             & 0                               & Allison, Mr. Hudson Joshua Crei & male                            & 30.0000                         & 1                               & 2                               & 113781                          & 151.5500                        & C22 C26                         & Southampton                     &                                 & 135                             & Montreal, PQ / Chesterville, ON\\\\\n",
       "\t 1st                             & 0                               & Allison, Mrs. Hudson J C (Bessi & female                          & 25.0000                         & 1                               & 2                               & 113781                          & 151.5500                        & C22 C26                         & Southampton                     &                                 &  NA                             & Montreal, PQ / Chesterville, ON\\\\\n",
       "\t 1st                             & 1                               & Anderson, Mr. Harry             & male                            & 48.0000                         & 0                               & 0                               & 19952                           &  26.5500                        & E12                             & Southampton                     & 3                               &  NA                             & New York, NY                   \\\\\n",
       "\\end{tabular}\n"
      ],
      "text/markdown": [
       "\n",
       "| pclass | survived | name | sex | age | sibsp | parch | ticket | fare | cabin | embarked | boat | body | home.dest |\n",
       "|---|---|---|---|---|---|---|---|---|---|---|---|---|---|\n",
       "| 1st                             | 1                               | Allen, Miss. Elisabeth Walton   | female                          | 29.0000                         | 0                               | 0                               | 24160                           | 211.3375                        | B5                              | Southampton                     | 2                               |  NA                             | St Louis, MO                    |\n",
       "| 1st                             | 1                               | Allison, Master. Hudson Trevor  | male                            |  0.9167                         | 1                               | 2                               | 113781                          | 151.5500                        | C22 C26                         | Southampton                     | 11                              |  NA                             | Montreal, PQ / Chesterville, ON |\n",
       "| 1st                             | 0                               | Allison, Miss. Helen Loraine    | female                          |  2.0000                         | 1                               | 2                               | 113781                          | 151.5500                        | C22 C26                         | Southampton                     |                                 |  NA                             | Montreal, PQ / Chesterville, ON |\n",
       "| 1st                             | 0                               | Allison, Mr. Hudson Joshua Crei | male                            | 30.0000                         | 1                               | 2                               | 113781                          | 151.5500                        | C22 C26                         | Southampton                     |                                 | 135                             | Montreal, PQ / Chesterville, ON |\n",
       "| 1st                             | 0                               | Allison, Mrs. Hudson J C (Bessi | female                          | 25.0000                         | 1                               | 2                               | 113781                          | 151.5500                        | C22 C26                         | Southampton                     |                                 |  NA                             | Montreal, PQ / Chesterville, ON |\n",
       "| 1st                             | 1                               | Anderson, Mr. Harry             | male                            | 48.0000                         | 0                               | 0                               | 19952                           |  26.5500                        | E12                             | Southampton                     | 3                               |  NA                             | New York, NY                    |\n",
       "\n"
      ],
      "text/plain": [
       "  pclass survived name                            sex    age     sibsp parch\n",
       "1 1st    1        Allen, Miss. Elisabeth Walton   female 29.0000 0     0    \n",
       "2 1st    1        Allison, Master. Hudson Trevor  male    0.9167 1     2    \n",
       "3 1st    0        Allison, Miss. Helen Loraine    female  2.0000 1     2    \n",
       "4 1st    0        Allison, Mr. Hudson Joshua Crei male   30.0000 1     2    \n",
       "5 1st    0        Allison, Mrs. Hudson J C (Bessi female 25.0000 1     2    \n",
       "6 1st    1        Anderson, Mr. Harry             male   48.0000 0     0    \n",
       "  ticket fare     cabin   embarked    boat body home.dest                      \n",
       "1 24160  211.3375 B5      Southampton 2     NA  St Louis, MO                   \n",
       "2 113781 151.5500 C22 C26 Southampton 11    NA  Montreal, PQ / Chesterville, ON\n",
       "3 113781 151.5500 C22 C26 Southampton       NA  Montreal, PQ / Chesterville, ON\n",
       "4 113781 151.5500 C22 C26 Southampton      135  Montreal, PQ / Chesterville, ON\n",
       "5 113781 151.5500 C22 C26 Southampton       NA  Montreal, PQ / Chesterville, ON\n",
       "6 19952   26.5500 E12     Southampton 3     NA  New York, NY                   "
      ]
     },
     "metadata": {},
     "output_type": "display_data"
    }
   ],
   "source": [
    "# Verifico que cargue los datos\n",
    "head(TITANIC3)"
   ]
  },
  {
   "cell_type": "markdown",
   "metadata": {},
   "source": [
    "### Ejercicio 8.b\n",
    "\n",
    ">Calcule la **proporción de sobrevivientes por clase y sexo**.\n",
    ">\n",
    ">¿Quién tuvo una tasa **más alta** de supervencia: los **varones de 1ra clase** o las **mujeres de 3ra**?\n",
    "\n",
    "### Solución 8.b\n",
    "\n",
    "Filtro pasajeros por **varones de 1ra clase** (`sex==\"male\" & pclass==\"1st\"`) o **mujeres de 3ra** (`sex==\"female\" & pclass==\"3rd\"`), y ademas cuento sobrevivientes en cada uno (`survived==1`), para calcular la tasa:"
   ]
  },
  {
   "cell_type": "code",
   "execution_count": 28,
   "metadata": {
    "ExecuteTime": {
     "end_time": "2020-04-15T01:13:40.296586Z",
     "start_time": "2020-04-15T01:13:19.866Z"
    }
   },
   "outputs": [],
   "source": [
    "# Males 1st class\n",
    "total_males    <- nrow(TITANIC3[TITANIC3$sex==\"male\" & TITANIC3$pclass==\"1st\" ,])\n",
    "survived_males <- nrow(TITANIC3[TITANIC3$sex==\"male\" & TITANIC3$pclass==\"1st\" & TITANIC3$survived==1 ,])\n",
    "rate_males     <- survived_males/total_males\n",
    "# Females 3rd class\n",
    "total_females    <- nrow(TITANIC3[TITANIC3$sex==\"female\" & TITANIC3$pclass==\"3rd\",])\n",
    "survived_females <- nrow(TITANIC3[TITANIC3$sex==\"female\" & TITANIC3$pclass==\"3rd\" & TITANIC3$survived==1 ,])\n",
    "rate_females     <- survived_females/total_females"
   ]
  },
  {
   "cell_type": "code",
   "execution_count": 29,
   "metadata": {
    "ExecuteTime": {
     "end_time": "2020-04-15T01:13:40.322697Z",
     "start_time": "2020-04-15T01:13:19.871Z"
    }
   },
   "outputs": [
    {
     "data": {
      "text/html": [
       "0.340782122905028"
      ],
      "text/latex": [
       "0.340782122905028"
      ],
      "text/markdown": [
       "0.340782122905028"
      ],
      "text/plain": [
       "[1] 0.3407821"
      ]
     },
     "metadata": {},
     "output_type": "display_data"
    },
    {
     "data": {
      "text/html": [
       "0.490740740740741"
      ],
      "text/latex": [
       "0.490740740740741"
      ],
      "text/markdown": [
       "0.490740740740741"
      ],
      "text/plain": [
       "[1] 0.4907407"
      ]
     },
     "metadata": {},
     "output_type": "display_data"
    }
   ],
   "source": [
    "rate_males\n",
    "rate_females"
   ]
  },
  {
   "cell_type": "markdown",
   "metadata": {},
   "source": [
    "> Los datos muestran que los **varones de 1era clase** tuvieron una tasa se supervivencia del $\\approx$**34.08%**, mientras que las **mujeres de 3era clase** tuvieron una tasa de supervivencia de $\\approx$**49.07%**.\n",
    ">\n",
    "> Por lo tanto, la **tasa más alta de supervivencia** la tuvo el grupo de **mujeres de 3era clase**."
   ]
  },
  {
   "cell_type": "markdown",
   "metadata": {},
   "source": [
    "### Ejercicio 8.c\n",
    "\n",
    "> ¿Cuál era la **edad** de la **mujer más grande** que **sobrevivió**?\n",
    "\n",
    "### Solución 8.c\n",
    "\n",
    "Dado que hay **muchos valores nulos** (*NA*) entre las edades de los pasajeros en los registros, es necesario hacer explícita la opción `na.rm` del comando `max`, que **calcula el máximo valor solo entre los valores no-nulos**."
   ]
  },
  {
   "cell_type": "code",
   "execution_count": 30,
   "metadata": {
    "ExecuteTime": {
     "end_time": "2020-04-15T01:13:40.344205Z",
     "start_time": "2020-04-15T01:13:19.879Z"
    }
   },
   "outputs": [
    {
     "data": {
      "text/html": [
       "76"
      ],
      "text/latex": [
       "76"
      ],
      "text/markdown": [
       "76"
      ],
      "text/plain": [
       "[1] 76"
      ]
     },
     "metadata": {},
     "output_type": "display_data"
    }
   ],
   "source": [
    "max(TITANIC3[TITANIC3$sex==\"female\" & TITANIC3$survived==1 , \"age\"], na.rm=TRUE)"
   ]
  },
  {
   "cell_type": "markdown",
   "metadata": {
    "ExecuteTime": {
     "end_time": "2020-04-14T02:18:37.981082Z",
     "start_time": "2020-04-14T02:18:37.967Z"
    }
   },
   "source": [
    "> La edad de la mujer más grande que sobrevivió era de **76 años**"
   ]
  },
  {
   "cell_type": "markdown",
   "metadata": {},
   "source": [
    "### Ejercicio 9.\n",
    "\n",
    "El conjunto de datos `CARS2004` del paquete `PASWR2` contiene datos de automóviles en Europa del año 2004.\n",
    "\n",
    "(ver `help(CARS2004)`)"
   ]
  },
  {
   "cell_type": "markdown",
   "metadata": {},
   "source": [
    "### Ejercicio 9.a\n",
    "\n",
    "> Calcular **cantidad total de autos** en cada país.\n",
    "\n",
    "### Solución 9.a\n",
    "\n",
    "El conjunto de datos `CARS2004` posee la cantidad de autos organizados por países entre sus variables, aunque **por cada 1000 habitantes**.\n",
    "\n",
    "De la documentación:\n",
    "\n",
    "> *cars (number of cars per 1000 inhabitants)*\n",
    "\n",
    "Por lo que para obtener la **cantidad total** de automóviles, debemos multiplicar `cars` por `population/1000`, y redondear al entero más cercano."
   ]
  },
  {
   "cell_type": "code",
   "execution_count": 31,
   "metadata": {
    "ExecuteTime": {
     "end_time": "2020-04-15T01:13:40.400794Z",
     "start_time": "2020-04-15T01:13:19.886Z"
    }
   },
   "outputs": [
    {
     "data": {
      "text/html": [
       "<table>\n",
       "<thead><tr><th scope=col>country</th><th scope=col>cars</th></tr></thead>\n",
       "<tbody>\n",
       "\t<tr><td>Belgium       </td><td> 4855         </td></tr>\n",
       "\t<tr><td>Czech Republic</td><td> 3809         </td></tr>\n",
       "\t<tr><td>Denmark       </td><td> 1911         </td></tr>\n",
       "\t<tr><td>Germany       </td><td>45062         </td></tr>\n",
       "\t<tr><td>Estonia       </td><td>  473         </td></tr>\n",
       "\t<tr><td>Greece        </td><td> 3842         </td></tr>\n",
       "\t<tr><td>Spain         </td><td>19225         </td></tr>\n",
       "\t<tr><td>France        </td><td>29411         </td></tr>\n",
       "\t<tr><td>Ireland       </td><td> 1551         </td></tr>\n",
       "\t<tr><td>Italy         </td><td>33633         </td></tr>\n",
       "\t<tr><td>Cyprus        </td><td>  327         </td></tr>\n",
       "\t<tr><td>Latvia        </td><td>  689         </td></tr>\n",
       "\t<tr><td>Lithuania     </td><td> 1323         </td></tr>\n",
       "\t<tr><td>Luxembourg    </td><td>  298         </td></tr>\n",
       "\t<tr><td>Hungary       </td><td> 2833         </td></tr>\n",
       "\t<tr><td>Malta         </td><td>  210         </td></tr>\n",
       "\t<tr><td>Netherlands   </td><td> 6975         </td></tr>\n",
       "\t<tr><td>Austria       </td><td> 4065         </td></tr>\n",
       "\t<tr><td>Poland        </td><td>11992         </td></tr>\n",
       "\t<tr><td>Portugal      </td><td> 5992         </td></tr>\n",
       "\t<tr><td>Slovenia      </td><td>  910         </td></tr>\n",
       "\t<tr><td>Slovakia      </td><td> 1194         </td></tr>\n",
       "\t<tr><td>Finland       </td><td> 2339         </td></tr>\n",
       "\t<tr><td>Sweden        </td><td> 4093         </td></tr>\n",
       "\t<tr><td>United Kingdom</td><td>27619         </td></tr>\n",
       "</tbody>\n",
       "</table>\n"
      ],
      "text/latex": [
       "\\begin{tabular}{r|ll}\n",
       " country & cars\\\\\n",
       "\\hline\n",
       "\t Belgium        &  4855         \\\\\n",
       "\t Czech Republic &  3809         \\\\\n",
       "\t Denmark        &  1911         \\\\\n",
       "\t Germany        & 45062         \\\\\n",
       "\t Estonia        &   473         \\\\\n",
       "\t Greece         &  3842         \\\\\n",
       "\t Spain          & 19225         \\\\\n",
       "\t France         & 29411         \\\\\n",
       "\t Ireland        &  1551         \\\\\n",
       "\t Italy          & 33633         \\\\\n",
       "\t Cyprus         &   327         \\\\\n",
       "\t Latvia         &   689         \\\\\n",
       "\t Lithuania      &  1323         \\\\\n",
       "\t Luxembourg     &   298         \\\\\n",
       "\t Hungary        &  2833         \\\\\n",
       "\t Malta          &   210         \\\\\n",
       "\t Netherlands    &  6975         \\\\\n",
       "\t Austria        &  4065         \\\\\n",
       "\t Poland         & 11992         \\\\\n",
       "\t Portugal       &  5992         \\\\\n",
       "\t Slovenia       &   910         \\\\\n",
       "\t Slovakia       &  1194         \\\\\n",
       "\t Finland        &  2339         \\\\\n",
       "\t Sweden         &  4093         \\\\\n",
       "\t United Kingdom & 27619         \\\\\n",
       "\\end{tabular}\n"
      ],
      "text/markdown": [
       "\n",
       "| country | cars |\n",
       "|---|---|\n",
       "| Belgium        |  4855          |\n",
       "| Czech Republic |  3809          |\n",
       "| Denmark        |  1911          |\n",
       "| Germany        | 45062          |\n",
       "| Estonia        |   473          |\n",
       "| Greece         |  3842          |\n",
       "| Spain          | 19225          |\n",
       "| France         | 29411          |\n",
       "| Ireland        |  1551          |\n",
       "| Italy          | 33633          |\n",
       "| Cyprus         |   327          |\n",
       "| Latvia         |   689          |\n",
       "| Lithuania      |  1323          |\n",
       "| Luxembourg     |   298          |\n",
       "| Hungary        |  2833          |\n",
       "| Malta          |   210          |\n",
       "| Netherlands    |  6975          |\n",
       "| Austria        |  4065          |\n",
       "| Poland         | 11992          |\n",
       "| Portugal       |  5992          |\n",
       "| Slovenia       |   910          |\n",
       "| Slovakia       |  1194          |\n",
       "| Finland        |  2339          |\n",
       "| Sweden         |  4093          |\n",
       "| United Kingdom | 27619          |\n",
       "\n"
      ],
      "text/plain": [
       "   country        cars \n",
       "1  Belgium         4855\n",
       "2  Czech Republic  3809\n",
       "3  Denmark         1911\n",
       "4  Germany        45062\n",
       "5  Estonia          473\n",
       "6  Greece          3842\n",
       "7  Spain          19225\n",
       "8  France         29411\n",
       "9  Ireland         1551\n",
       "10 Italy          33633\n",
       "11 Cyprus           327\n",
       "12 Latvia           689\n",
       "13 Lithuania       1323\n",
       "14 Luxembourg       298\n",
       "15 Hungary         2833\n",
       "16 Malta            210\n",
       "17 Netherlands     6975\n",
       "18 Austria         4065\n",
       "19 Poland         11992\n",
       "20 Portugal        5992\n",
       "21 Slovenia         910\n",
       "22 Slovakia        1194\n",
       "23 Finland         2339\n",
       "24 Sweden          4093\n",
       "25 United Kingdom 27619"
      ]
     },
     "metadata": {},
     "output_type": "display_data"
    }
   ],
   "source": [
    "total_cars <- round(CARS2004$cars * CARS2004$population / 1000)\n",
    "cars_per_country <- data.frame(CARS2004$country, total_cars)\n",
    "colnames(cars_per_country) <- c(\"country\", \"cars\")\n",
    "cars_per_country "
   ]
  },
  {
   "cell_type": "markdown",
   "metadata": {},
   "source": [
    "> La **cantidad total de automóviles por países** se encuentra en la tabla anterior."
   ]
  },
  {
   "cell_type": "markdown",
   "metadata": {},
   "source": [
    "### Ejercicio 9.b\n",
    "\n",
    ">Calcular la **tasa de mortalidad de automovilistas** para cada país como el **número total de muertes de automovilistas dividido el número total de autos**.\n",
    "\n",
    "### Solución 9.b\n",
    "\n",
    "Puedo extraer las variables necesarias de la tabla en forma de **vector**, y operar directamente con ellos ya que mantienen el orden original y son **operaciones elemento a elemento**."
   ]
  },
  {
   "cell_type": "code",
   "execution_count": 32,
   "metadata": {
    "ExecuteTime": {
     "end_time": "2020-04-15T01:13:40.449728Z",
     "start_time": "2020-04-15T01:13:19.893Z"
    }
   },
   "outputs": [
    {
     "data": {
      "text/html": [
       "<table>\n",
       "<thead><tr><th scope=col>country</th><th scope=col>dead_rate</th></tr></thead>\n",
       "<tbody>\n",
       "\t<tr><td>Belgium       </td><td>0.023069001   </td></tr>\n",
       "\t<tr><td>Czech Republic</td><td>0.035442373   </td></tr>\n",
       "\t<tr><td>Denmark       </td><td>0.035583464   </td></tr>\n",
       "\t<tr><td>Germany       </td><td>0.001575607   </td></tr>\n",
       "\t<tr><td>Estonia       </td><td>0.266384778   </td></tr>\n",
       "\t<tr><td>Greece        </td><td>0.038261322   </td></tr>\n",
       "\t<tr><td>Spain         </td><td>0.005825748   </td></tr>\n",
       "\t<tr><td>France        </td><td>0.003128081   </td></tr>\n",
       "\t<tr><td>Ireland       </td><td>0.060606061   </td></tr>\n",
       "\t<tr><td>Italy         </td><td>0.002884072   </td></tr>\n",
       "\t<tr><td>Cyprus        </td><td>0.489296636   </td></tr>\n",
       "\t<tr><td>Latvia        </td><td>0.322206096   </td></tr>\n",
       "\t<tr><td>Lithuania     </td><td>0.164777022   </td></tr>\n",
       "\t<tr><td>Luxembourg    </td><td>0.365771812   </td></tr>\n",
       "\t<tr><td>Hungary       </td><td>0.045181786   </td></tr>\n",
       "\t<tr><td>Malta         </td><td>0.157142857   </td></tr>\n",
       "\t<tr><td>Netherlands   </td><td>0.007025090   </td></tr>\n",
       "\t<tr><td>Austria       </td><td>0.026568266   </td></tr>\n",
       "\t<tr><td>Poland        </td><td>0.012508339   </td></tr>\n",
       "\t<tr><td>Portugal      </td><td>0.020694259   </td></tr>\n",
       "\t<tr><td>Slovenia      </td><td>0.150549451   </td></tr>\n",
       "\t<tr><td>Slovakia      </td><td>0.093802345   </td></tr>\n",
       "\t<tr><td>Finland       </td><td>0.030782386   </td></tr>\n",
       "\t<tr><td>Sweden        </td><td>0.012948937   </td></tr>\n",
       "\t<tr><td>United Kingdom</td><td>0.002027590   </td></tr>\n",
       "</tbody>\n",
       "</table>\n"
      ],
      "text/latex": [
       "\\begin{tabular}{r|ll}\n",
       " country & dead\\_rate\\\\\n",
       "\\hline\n",
       "\t Belgium        & 0.023069001   \\\\\n",
       "\t Czech Republic & 0.035442373   \\\\\n",
       "\t Denmark        & 0.035583464   \\\\\n",
       "\t Germany        & 0.001575607   \\\\\n",
       "\t Estonia        & 0.266384778   \\\\\n",
       "\t Greece         & 0.038261322   \\\\\n",
       "\t Spain          & 0.005825748   \\\\\n",
       "\t France         & 0.003128081   \\\\\n",
       "\t Ireland        & 0.060606061   \\\\\n",
       "\t Italy          & 0.002884072   \\\\\n",
       "\t Cyprus         & 0.489296636   \\\\\n",
       "\t Latvia         & 0.322206096   \\\\\n",
       "\t Lithuania      & 0.164777022   \\\\\n",
       "\t Luxembourg     & 0.365771812   \\\\\n",
       "\t Hungary        & 0.045181786   \\\\\n",
       "\t Malta          & 0.157142857   \\\\\n",
       "\t Netherlands    & 0.007025090   \\\\\n",
       "\t Austria        & 0.026568266   \\\\\n",
       "\t Poland         & 0.012508339   \\\\\n",
       "\t Portugal       & 0.020694259   \\\\\n",
       "\t Slovenia       & 0.150549451   \\\\\n",
       "\t Slovakia       & 0.093802345   \\\\\n",
       "\t Finland        & 0.030782386   \\\\\n",
       "\t Sweden         & 0.012948937   \\\\\n",
       "\t United Kingdom & 0.002027590   \\\\\n",
       "\\end{tabular}\n"
      ],
      "text/markdown": [
       "\n",
       "| country | dead_rate |\n",
       "|---|---|\n",
       "| Belgium        | 0.023069001    |\n",
       "| Czech Republic | 0.035442373    |\n",
       "| Denmark        | 0.035583464    |\n",
       "| Germany        | 0.001575607    |\n",
       "| Estonia        | 0.266384778    |\n",
       "| Greece         | 0.038261322    |\n",
       "| Spain          | 0.005825748    |\n",
       "| France         | 0.003128081    |\n",
       "| Ireland        | 0.060606061    |\n",
       "| Italy          | 0.002884072    |\n",
       "| Cyprus         | 0.489296636    |\n",
       "| Latvia         | 0.322206096    |\n",
       "| Lithuania      | 0.164777022    |\n",
       "| Luxembourg     | 0.365771812    |\n",
       "| Hungary        | 0.045181786    |\n",
       "| Malta          | 0.157142857    |\n",
       "| Netherlands    | 0.007025090    |\n",
       "| Austria        | 0.026568266    |\n",
       "| Poland         | 0.012508339    |\n",
       "| Portugal       | 0.020694259    |\n",
       "| Slovenia       | 0.150549451    |\n",
       "| Slovakia       | 0.093802345    |\n",
       "| Finland        | 0.030782386    |\n",
       "| Sweden         | 0.012948937    |\n",
       "| United Kingdom | 0.002027590    |\n",
       "\n"
      ],
      "text/plain": [
       "   country        dead_rate  \n",
       "1  Belgium        0.023069001\n",
       "2  Czech Republic 0.035442373\n",
       "3  Denmark        0.035583464\n",
       "4  Germany        0.001575607\n",
       "5  Estonia        0.266384778\n",
       "6  Greece         0.038261322\n",
       "7  Spain          0.005825748\n",
       "8  France         0.003128081\n",
       "9  Ireland        0.060606061\n",
       "10 Italy          0.002884072\n",
       "11 Cyprus         0.489296636\n",
       "12 Latvia         0.322206096\n",
       "13 Lithuania      0.164777022\n",
       "14 Luxembourg     0.365771812\n",
       "15 Hungary        0.045181786\n",
       "16 Malta          0.157142857\n",
       "17 Netherlands    0.007025090\n",
       "18 Austria        0.026568266\n",
       "19 Poland         0.012508339\n",
       "20 Portugal       0.020694259\n",
       "21 Slovenia       0.150549451\n",
       "22 Slovakia       0.093802345\n",
       "23 Finland        0.030782386\n",
       "24 Sweden         0.012948937\n",
       "25 United Kingdom 0.002027590"
      ]
     },
     "metadata": {},
     "output_type": "display_data"
    }
   ],
   "source": [
    "tasas_mortalidad <- CARS2004$deaths / total_cars\n",
    "# Agrego columna de países y renombro\n",
    "tasa <- data.frame(CARS2004$country, tasas_mortalidad)\n",
    "colnames(tasa) <- c(\"country\",\"dead_rate\")\n",
    "tasa"
   ]
  },
  {
   "cell_type": "markdown",
   "metadata": {},
   "source": [
    "### Ejercicio 9.c\n",
    "\n",
    "> Hacer un gráfico de barras que indique la **tasa de mortalidad en accidentes de tránsito** de cada país de la Unión Europea.\n",
    ">\n",
    "> **Ordene** las barras de forma **creciente**.\n",
    "\n",
    "### Solución 9.c"
   ]
  },
  {
   "cell_type": "code",
   "execution_count": 33,
   "metadata": {
    "ExecuteTime": {
     "end_time": "2020-04-15T01:13:40.614164Z",
     "start_time": "2020-04-15T01:13:19.900Z"
    }
   },
   "outputs": [
    {
     "data": {
      "image/png": "[encoded data removed]",
      "text/plain": [
       "Plot with title “Tasa de Mortalidad por países”"
      ]
     },
     "metadata": {},
     "output_type": "display_data"
    }
   ],
   "source": [
    "tasa <- tasa[order(tasa$dead_rate),]\n",
    "\n",
    "# Agrando margen inferior\n",
    "par(mar=c(7,4,4,2)) \n",
    "\n",
    "# Degrade de colores\n",
    "# NOTA: NO proporcionales a las alturas!\n",
    "color.function <- colorRampPalette( c(\"lightblue\" , \"red\") )\n",
    "color.ramp <- color.function( n=nrow(tasa) )\n",
    "\n",
    "# Grafico de barras\n",
    "bb <- barplot(height=tasa$dead_rate, names.arg=tasa$country,\n",
    "              las=2, cex.names=0.8,\n",
    "              ylim=c(0, 0.55), yaxt = \"n\",\n",
    "              main=\"Tasa de Mortalidad por países\",\n",
    "              ylab=\"Tasa (muertes / cant.automóviles)\",\n",
    "              col=color.ramp)\n",
    "text(bb, round(tasa$dead_rate, 4)+0.025, round(tasa$dead_rate, 4), srt=90, cex=0.7)\n",
    "# Ticks en eje y\n",
    "axis(side=2, at=seq(0,0.5,0.1), las=2)\n",
    "# Eje x\n",
    "mtext(\"País\", side=1, line=6)\n"
   ]
  },
  {
   "cell_type": "markdown",
   "metadata": {},
   "source": [
    "### Ejercicio 9.d\n",
    "\n",
    "> ¿Qué paı́s tiene la **menor tasa de mortalidad** de automovilistas y qué país la más alta?\n",
    "\n",
    "### Solución 9.d\n",
    "\n",
    "Viendo el gráfico podemos determinar que **Alemania** lidera la **menor tasa**, y **Cyprus** la **más alta**.\n",
    "\n",
    "Extrayendolo directamente de los datos:"
   ]
  },
  {
   "cell_type": "code",
   "execution_count": 34,
   "metadata": {
    "ExecuteTime": {
     "end_time": "2020-04-15T01:13:40.676379Z",
     "start_time": "2020-04-15T01:13:19.908Z"
    }
   },
   "outputs": [
    {
     "name": "stdout",
     "output_type": "stream",
     "text": [
      "[1] \"País con tasa mínima:\"\n"
     ]
    },
    {
     "data": {
      "text/html": [
       "<table>\n",
       "<thead><tr><th></th><th scope=col>country</th><th scope=col>dead_rate</th></tr></thead>\n",
       "<tbody>\n",
       "\t<tr><th scope=row>4</th><td>Germany    </td><td>0,001575607</td></tr>\n",
       "</tbody>\n",
       "</table>\n"
      ],
      "text/latex": [
       "\\begin{tabular}{r|ll}\n",
       "  & country & dead\\_rate\\\\\n",
       "\\hline\n",
       "\t4 & Germany     & 0,001575607\\\\\n",
       "\\end{tabular}\n"
      ],
      "text/markdown": [
       "\n",
       "| <!--/--> | country | dead_rate |\n",
       "|---|---|---|\n",
       "| 4 | Germany     | 0,001575607 |\n",
       "\n"
      ],
      "text/plain": [
       "  country dead_rate  \n",
       "4 Germany 0,001575607"
      ]
     },
     "metadata": {},
     "output_type": "display_data"
    },
    {
     "name": "stdout",
     "output_type": "stream",
     "text": [
      "[1] \"País con tasa máxima:\"\n"
     ]
    },
    {
     "data": {
      "text/html": [
       "<table>\n",
       "<thead><tr><th></th><th scope=col>country</th><th scope=col>dead_rate</th></tr></thead>\n",
       "<tbody>\n",
       "\t<tr><th scope=row>11</th><td>Cyprus   </td><td>0,4892966</td></tr>\n",
       "</tbody>\n",
       "</table>\n"
      ],
      "text/latex": [
       "\\begin{tabular}{r|ll}\n",
       "  & country & dead\\_rate\\\\\n",
       "\\hline\n",
       "\t11 & Cyprus    & 0,4892966\\\\\n",
       "\\end{tabular}\n"
      ],
      "text/markdown": [
       "\n",
       "| <!--/--> | country | dead_rate |\n",
       "|---|---|---|\n",
       "| 11 | Cyprus    | 0,4892966 |\n",
       "\n"
      ],
      "text/plain": [
       "   country dead_rate\n",
       "11 Cyprus  0,4892966"
      ]
     },
     "metadata": {},
     "output_type": "display_data"
    }
   ],
   "source": [
    "print(\"País con tasa mínima:\")\n",
    "tasa[which.min(tasa$dead_rate), c(\"country\", \"dead_rate\")]\n",
    "print(\"País con tasa máxima:\")\n",
    "tasa[which.max(tasa$dead_rate), c(\"country\", \"dead_rate\")]"
   ]
  },
  {
   "cell_type": "markdown",
   "metadata": {
    "ExecuteTime": {
     "end_time": "2020-04-14T23:07:54.179073Z",
     "start_time": "2020-04-14T23:07:54.168Z"
    }
   },
   "source": [
    "> **Menor tasa** de mortalidad: **Alemania**\n",
    ">\n",
    "> **Mayor tasa** de mortalidad: **Cyprus**"
   ]
  },
  {
   "cell_type": "markdown",
   "metadata": {},
   "source": [
    "### Ejercicio 9.e\n",
    "\n",
    ">Haga un gráfico de **cantidad total de autos** vs **población**. ¿Cómo describiría la relación?\n",
    "\n",
    "### Solución 9.e\n"
   ]
  },
  {
   "cell_type": "code",
   "execution_count": 35,
   "metadata": {
    "ExecuteTime": {
     "end_time": "2020-04-15T01:13:40.775144Z",
     "start_time": "2020-04-15T01:13:19.914Z"
    },
    "run_control": {
     "marked": false
    }
   },
   "outputs": [
    {
     "data": {
      "image/png": "[encoded data removed]",
      "text/plain": [
       "plot without title"
      ]
     },
     "metadata": {},
     "output_type": "display_data"
    }
   ],
   "source": [
    "total_cars <- CARS2004$cars * CARS2004$population / 1000\n",
    "plot(CARS2004$population, total_cars,\n",
    "     xlab=\"Cantidad de habitantes\", ylab=\"Total de automóviles\",\n",
    "     col=\"steelblue\", pch=19)\n",
    "grid()"
   ]
  },
  {
   "cell_type": "markdown",
   "metadata": {},
   "source": [
    "> Se observa una **relación aproximadamente lineal**, donde habría **1 automóvil por cada 2/2.75 habitantes**, graficada toscamente a continuación:"
   ]
  },
  {
   "cell_type": "code",
   "execution_count": 36,
   "metadata": {
    "ExecuteTime": {
     "end_time": "2020-04-15T01:13:40.880078Z",
     "start_time": "2020-04-15T01:13:19.919Z"
    }
   },
   "outputs": [
    {
     "data": {
      "image/png": "[encoded data removed]",
      "text/plain": [
       "plot without title"
      ]
     },
     "metadata": {},
     "output_type": "display_data"
    }
   ],
   "source": [
    "plot(CARS2004$population, total_cars,\n",
    "     xlab=\"Cantidad de habitantes\", ylab=\"Total de automóviles\",\n",
    "     col=\"steelblue\", pch=19)\n",
    "lines(c(0, 1.75*max(total_cars)), c(0, max(total_cars)), col=\"red\", lwd=2)\n",
    "lines(c(0, 2*max(total_cars)), c(0, max(total_cars)), col=\"orange\", lwd=2)\n",
    "lines(c(0, 2.75*max(total_cars)), c(0, max(total_cars)), col=\"yellow\", lwd=2)\n",
    "grid()\n",
    "legend(\"topleft\", title=\"Autos por persona\",\n",
    "       legend=c(\"1 cada 1.75\",\"1 cada 2\",\"1 cada 2.75\"),\n",
    "       fill=c(\"red\",\"orange\",\"yellow\"),\n",
    "       bg=\"lightgray\")"
   ]
  },
  {
   "cell_type": "markdown",
   "metadata": {},
   "source": [
    "### Ejercicio 9.f\n",
    "\n",
    ">Haga un gráfico de **cantidad total de autos** vs **tasa de mortalidad de automovilistas**. ¿Cómo describirı́a la relación?\n",
    "\n",
    "### Solución 9.f"
   ]
  },
  {
   "cell_type": "code",
   "execution_count": 37,
   "metadata": {
    "ExecuteTime": {
     "end_time": "2020-04-15T01:13:40.894270Z",
     "start_time": "2020-04-15T01:13:19.923Z"
    }
   },
   "outputs": [],
   "source": [
    "cars_vs_deadrate <- data.frame(total_cars, tasas_mortalidad)\n",
    "colnames(cars_vs_deadrate) <- c(\"cars\",\"dead_rate\")"
   ]
  },
  {
   "cell_type": "code",
   "execution_count": 38,
   "metadata": {
    "ExecuteTime": {
     "end_time": "2020-04-15T01:13:40.963464Z",
     "start_time": "2020-04-15T01:13:19.927Z"
    }
   },
   "outputs": [
    {
     "data": {
      "image/png": "[encoded data removed]",
      "text/plain": [
       "plot without title"
      ]
     },
     "metadata": {},
     "output_type": "display_data"
    }
   ],
   "source": [
    "plot(cars_vs_deadrate,\n",
    "     xlab=\"Total de Automóviles\", ylab=\"Tasa de Mortalidad\",\n",
    "     col=\"steelblue\", pch=19)\n",
    "grid()"
   ]
  },
  {
   "cell_type": "markdown",
   "metadata": {},
   "source": [
    "> Se observa una relación poco intuitiva en cuanto a las dos variables.\n",
    ">\n",
    "> Por un lado, a partir de los 10.000 automóviles, la tasa de mortalidad se mantiene muy baja y casi constante hasta llegar a casi 50.000 (5 veces más!)\n",
    ">\n",
    "> Por otro lado, para valores menores a 10.000 automoviles, la tasa de mortalidad crece rápidamente, inversamente proporcional a la misma, alcanzando valores máximos con menos de 2000 automóviles.\n",
    ">\n",
    "> A partir de estos datos, uno *podría* (de manera **incorrecta!**) interpretar que\n",
    ">\n",
    "> >***\"a mayor cantidad de automóviles en un país, menor la tasa de mortalidad, y a menor cantidad, mayor tasa de mortalidad\"***\n",
    "> \n",
    "> Y a partir de ello, **reducir la tasa de mortalidad mundial muy facilmente**: *Fabricar miles de millones de automóviles y reducir el precio de los mismos!*.\n",
    ">\n",
    "> Es claro que este no es el caso, y analisis deja afuera muchas otras variables que influyen de forma directa e indirecta en las causas y de la tasa de mortalidad:\n",
    ">\n",
    ">> * Tamaño del país\n",
    ">>\n",
    ">>* Densidad de población\n",
    ">>\n",
    ">>* Estructura y planeamiento vial\n",
    ">>\n",
    ">>* Transporte público\n",
    ">>\n",
    ">>* Principales actividades laborales\n",
    ">>\n",
    ">>* Nivel de educación de la población"
   ]
  },
  {
   "cell_type": "markdown",
   "metadata": {},
   "source": [
    "$\\mathcal{fin}$"
   ]
  }
 ],
 "metadata": {
  "kernelspec": {
   "display_name": "R",
   "language": "R",
   "name": "ir"
  },
  "language_info": {
   "codemirror_mode": "r",
   "file_extension": ".r",
   "mimetype": "text/x-r-source",
   "name": "R",
   "pygments_lexer": "r",
   "version": "3.6.0"
  },
  "toc": {
   "base_numbering": 1,
   "nav_menu": {},
   "number_sections": false,
   "sideBar": true,
   "skip_h1_title": false,
   "title_cell": "Table of Contents",
   "title_sidebar": "Contents",
   "toc_cell": false,
   "toc_position": {},
   "toc_section_display": true,
   "toc_window_display": false
  }
 },
 "nbformat": 4,
 "nbformat_minor": 2
}
